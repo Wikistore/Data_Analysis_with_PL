{
 "cells": [
  {
   "cell_type": "code",
   "execution_count": 7,
   "id": "included-blame",
   "metadata": {},
   "outputs": [
    {
     "name": "stdout",
     "output_type": "stream",
     "text": [
      "1.2.0\n",
      "{'system': {'commit': '3e89b4c4b1580aa890023fc550774e63d499da25', 'python': '3.8.6.final.0', 'python-bits': 32, 'OS': 'Windows', 'OS-release': '10', 'Version': '10.0.19041', 'machine': 'AMD64', 'processor': 'Intel64 Family 6 Model 42 Stepping 7, GenuineIntel', 'byteorder': 'little', 'LC_ALL': None, 'LANG': 'en.UTF-8', 'LOCALE': {'language-code': 'English_United States', 'encoding': '1252'}}, 'dependencies': {'pandas': '1.2.0', 'numpy': '1.19.4', 'pytz': '2020.5', 'dateutil': '2.8.1', 'pip': '21.0', 'setuptools': '49.2.1', 'Cython': None, 'pytest': None, 'hypothesis': None, 'sphinx': None, 'blosc': None, 'feather': None, 'xlsxwriter': None, 'lxml.etree': None, 'html5lib': None, 'pymysql': None, 'psycopg2': None, 'jinja2': '2.11.2', 'IPython': '7.19.0', 'pandas_datareader': None, 'bs4': None, 'bottleneck': None, 'fsspec': None, 'fastparquet': None, 'gcsfs': None, 'matplotlib': '3.3.4', 'numexpr': None, 'odfpy': None, 'openpyxl': '3.0.5', 'pandas_gbq': None, 'pyarrow': None, 'pyxlsb': None, 's3fs': None, 'scipy': None, 'sqlalchemy': None, 'tables': None, 'tabulate': None, 'xarray': None, 'xlrd': None, 'xlwt': None, 'numba': None}}\n",
      "None\n"
     ]
    }
   ],
   "source": [
    "import numpy as np  # optional\n",
    "import pandas as pd\n",
    "print(pd.__version__)\n",
    "print(pd.show_versions(as_json=True))"
   ]
  },
  {
   "cell_type": "markdown",
   "id": "identical-consideration",
   "metadata": {},
   "source": [
    "     \n",
    "     2.create a series from a list, numpy array and dict\n",
    " "
   ]
  },
  {
   "cell_type": "code",
   "execution_count": 10,
   "id": "material-combine",
   "metadata": {},
   "outputs": [
    {
     "name": "stdout",
     "output_type": "stream",
     "text": [
      "a    0\n",
      "b    1\n",
      "c    2\n",
      "e    3\n",
      "d    4\n",
      "dtype: int64\n"
     ]
    }
   ],
   "source": [
    "import numpy as np\n",
    "mylist = list('abcedfghijklmnopqrstuvwxyz')\n",
    "myarr = np.arange(26)\n",
    "mydict = dict(zip(mylist, myarr))\n",
    "\n",
    "# Solution\n",
    "ser1 = pd.Series(mylist)\n",
    "ser2 = pd.Series(myarr)\n",
    "ser3 = pd.Series(mydict)\n",
    "print(ser3.head())"
   ]
  },
  {
   "cell_type": "markdown",
   "id": "renewable-military",
   "metadata": {},
   "source": [
    "3. convert the index of a series into a column of a dataframe\n"
   ]
  },
  {
   "cell_type": "code",
   "execution_count": 13,
   "id": "intensive-merchant",
   "metadata": {},
   "outputs": [
    {
     "name": "stdout",
     "output_type": "stream",
     "text": [
      "  index  0\n",
      "0     a  0\n",
      "1     b  1\n",
      "2     c  2\n",
      "3     e  3\n",
      "4     d  4\n"
     ]
    }
   ],
   "source": [
    "# Input\n",
    "mylist = list('abcedfghijklmnopqrstuvwxyz')\n",
    "myarr = np.arange(26)\n",
    "mydict = dict(zip(mylist, myarr))\n",
    "ser = pd.Series(mydict)\n",
    "\n",
    "# Solution\n",
    "df = ser.to_frame().reset_index()\n",
    "print(df.head())"
   ]
  },
  {
   "cell_type": "markdown",
   "id": "novel-exploration",
   "metadata": {},
   "source": [
    "4.  combine many series to form a dataframe\n"
   ]
  },
  {
   "cell_type": "code",
   "execution_count": 14,
   "id": "prompt-accreditation",
   "metadata": {},
   "outputs": [
    {
     "name": "stdout",
     "output_type": "stream",
     "text": [
      "  col1  col2\n",
      "0    a     0\n",
      "1    b     1\n",
      "2    c     2\n",
      "3    e     3\n",
      "4    d     4\n"
     ]
    }
   ],
   "source": [
    "import numpy as np\n",
    "ser1 = pd.Series(list('abcedfghijklmnopqrstuvwxyz'))\n",
    "ser2 = pd.Series(np.arange(26))\n",
    "\n",
    "# Solution 1\n",
    "df = pd.concat([ser1, ser2], axis=1)\n",
    "\n",
    "# Solution 2\n",
    "df = pd.DataFrame({'col1': ser1, 'col2': ser2})\n",
    "print(df.head())"
   ]
  },
  {
   "cell_type": "markdown",
   "id": "anonymous-paste",
   "metadata": {},
   "source": [
    "5. assign name to the series’ index"
   ]
  },
  {
   "cell_type": "code",
   "execution_count": 18,
   "id": "collect-entrepreneur",
   "metadata": {},
   "outputs": [
    {
     "data": {
      "text/plain": [
       "0    a\n",
       "1    b\n",
       "2    c\n",
       "3    e\n",
       "4    d\n",
       "Name: alphabets, dtype: object"
      ]
     },
     "execution_count": 18,
     "metadata": {},
     "output_type": "execute_result"
    }
   ],
   "source": [
    "# Input\n",
    "ser = pd.Series(list('abcedfghijklmnopqrstuvwxyz'))\n",
    "\n",
    "# Solution\n",
    "ser.name = 'alphabets'\n",
    "ser.head()\n",
    "    \n"
   ]
  },
  {
   "cell_type": "markdown",
   "id": "peaceful-compact",
   "metadata": {},
   "source": [
    "6. get the items of series A not present in series B"
   ]
  },
  {
   "cell_type": "code",
   "execution_count": 20,
   "id": "joint-strategy",
   "metadata": {},
   "outputs": [
    {
     "data": {
      "text/plain": [
       "0    1\n",
       "1    2\n",
       "2    3\n",
       "dtype: int64"
      ]
     },
     "execution_count": 20,
     "metadata": {},
     "output_type": "execute_result"
    }
   ],
   "source": [
    "# Input\n",
    "ser1 = pd.Series([1, 2, 3, 4, 5])\n",
    "ser2 = pd.Series([4, 5, 6, 7, 8])\n",
    "\n",
    "# Solution\n",
    "ser1[~ser1.isin(ser2)]"
   ]
  },
  {
   "cell_type": "markdown",
   "id": "dress-qualification",
   "metadata": {},
   "source": []
  },
  {
   "cell_type": "markdown",
   "id": "prerequisite-prague",
   "metadata": {},
   "source": [
    "7. get the items not common to both series A and series B"
   ]
  },
  {
   "cell_type": "code",
   "execution_count": 21,
   "id": "arabic-mentor",
   "metadata": {},
   "outputs": [
    {
     "data": {
      "text/plain": [
       "0    1\n",
       "1    2\n",
       "2    3\n",
       "5    6\n",
       "6    7\n",
       "7    8\n",
       "dtype: int64"
      ]
     },
     "execution_count": 21,
     "metadata": {},
     "output_type": "execute_result"
    }
   ],
   "source": [
    "# Input\n",
    "ser1 = pd.Series([1, 2, 3, 4, 5])\n",
    "ser2 = pd.Series([4, 5, 6, 7, 8])\n",
    "\n",
    "# Solution\n",
    "ser_u = pd.Series(np.union1d(ser1, ser2))  # union\n",
    "ser_i = pd.Series(np.intersect1d(ser1, ser2))  # intersect\n",
    "ser_u[~ser_u.isin(ser_i)]"
   ]
  },
  {
   "cell_type": "markdown",
   "id": "imperial-biography",
   "metadata": {},
   "source": [
    "8. get the minimum, 25th percentile, median, 75th, and max of a numeric series\n"
   ]
  },
  {
   "cell_type": "code",
   "execution_count": 23,
   "id": "oriental-actor",
   "metadata": {},
   "outputs": [
    {
     "data": {
      "text/plain": [
       "array([ 1.25117263,  7.70986507, 10.92259345, 13.36360403, 18.0949083 ])"
      ]
     },
     "execution_count": 23,
     "metadata": {},
     "output_type": "execute_result"
    }
   ],
   "source": [
    "# Input\n",
    "state = np.random.RandomState(100)\n",
    "ser = pd.Series(state.normal(10, 5, 25))\n",
    "\n",
    "# Solution\n",
    "np.percentile(ser, q=[0, 25, 50, 75, 100])"
   ]
  },
  {
   "cell_type": "markdown",
   "id": "loaded-primary",
   "metadata": {},
   "source": [
    "9. get frequency counts of unique items of a series"
   ]
  },
  {
   "cell_type": "code",
   "execution_count": 24,
   "id": "aging-elevation",
   "metadata": {},
   "outputs": [
    {
     "data": {
      "text/plain": [
       "c    7\n",
       "a    6\n",
       "e    5\n",
       "h    4\n",
       "f    3\n",
       "g    2\n",
       "d    2\n",
       "b    1\n",
       "dtype: int64"
      ]
     },
     "execution_count": 24,
     "metadata": {},
     "output_type": "execute_result"
    }
   ],
   "source": [
    "# Input\n",
    "ser = pd.Series(np.take(list('abcdefgh'), np.random.randint(8, size=30)))\n",
    "\n",
    "# Solution\n",
    "ser.value_counts()"
   ]
  },
  {
   "cell_type": "code",
   "execution_count": null,
   "id": "following-stick",
   "metadata": {},
   "outputs": [],
   "source": [
    "10. keep only top 2 most frequent values as it is and replace everything else as ‘Other’"
   ]
  },
  {
   "cell_type": "code",
   "execution_count": 25,
   "id": "australian-stone",
   "metadata": {},
   "outputs": [
    {
     "name": "stdout",
     "output_type": "stream",
     "text": [
      "Top 2 Freq: 1    4\n",
      "3    3\n",
      "4    3\n",
      "2    2\n",
      "dtype: int64\n"
     ]
    },
    {
     "data": {
      "text/plain": [
       "0     Other\n",
       "1         3\n",
       "2     Other\n",
       "3     Other\n",
       "4         3\n",
       "5         3\n",
       "6     Other\n",
       "7         1\n",
       "8         1\n",
       "9         1\n",
       "10    Other\n",
       "11        1\n",
       "dtype: object"
      ]
     },
     "execution_count": 25,
     "metadata": {},
     "output_type": "execute_result"
    }
   ],
   "source": [
    "# Input\n",
    "np.random.RandomState(100)\n",
    "ser = pd.Series(np.random.randint(1, 5, [12]))\n",
    "\n",
    "# Solution\n",
    "print(\"Top 2 Freq:\", ser.value_counts())\n",
    "ser[~ser.isin(ser.value_counts().index[:2])] = 'Other'\n",
    "ser"
   ]
  },
  {
   "cell_type": "markdown",
   "id": "maritime-kinase",
   "metadata": {},
   "source": [
    "11. bin a numeric series to 10 groups of equal size"
   ]
  },
  {
   "cell_type": "code",
   "execution_count": 26,
   "id": "equal-closer",
   "metadata": {},
   "outputs": [
    {
     "name": "stdout",
     "output_type": "stream",
     "text": [
      "0    0.737128\n",
      "1    0.057274\n",
      "2    0.181399\n",
      "3    0.108913\n",
      "4    0.694334\n",
      "dtype: float64\n"
     ]
    },
    {
     "data": {
      "text/plain": [
       "0    9th\n",
       "1    1st\n",
       "2    4th\n",
       "3    2nd\n",
       "4    8th\n",
       "dtype: category\n",
       "Categories (10, object): ['1st' < '2nd' < '3rd' < '4th' ... '7th' < '8th' < '9th' < '10th']"
      ]
     },
     "execution_count": 26,
     "metadata": {},
     "output_type": "execute_result"
    }
   ],
   "source": [
    "# Input\n",
    "ser = pd.Series(np.random.random(20))\n",
    "print(ser.head())\n",
    "\n",
    "# Solution\n",
    "pd.qcut(ser, q=[0, .10, .20, .3, .4, .5, .6, .7, .8, .9, 1], \n",
    "        labels=['1st', '2nd', '3rd', '4th', '5th', '6th', '7th', '8th', '9th', '10th']).head()\n",
    "\n",
    "\n"
   ]
  },
  {
   "cell_type": "markdown",
   "id": "coral-seattle",
   "metadata": {},
   "source": [
    "12. convert a numpy array to a dataframe of given shape"
   ]
  },
  {
   "cell_type": "code",
   "execution_count": 27,
   "id": "blessed-parameter",
   "metadata": {},
   "outputs": [
    {
     "name": "stdout",
     "output_type": "stream",
     "text": [
      "   0  1  2  3  4\n",
      "0  6  7  1  4  9\n",
      "1  9  6  3  5  9\n",
      "2  9  4  3  7  8\n",
      "3  4  9  8  8  1\n",
      "4  7  8  3  7  9\n",
      "5  9  7  1  6  8\n",
      "6  2  4  9  9  2\n"
     ]
    }
   ],
   "source": [
    "# Input\n",
    "ser = pd.Series(np.random.randint(1, 10, 35))\n",
    "\n",
    "# Solution\n",
    "df = pd.DataFrame(ser.values.reshape(7,5))\n",
    "print(df)"
   ]
  },
  {
   "cell_type": "markdown",
   "id": "guilty-swimming",
   "metadata": {},
   "source": [
    "\n",
    "13. find the positions of numbers that are multiples of 3 from a series"
   ]
  },
  {
   "cell_type": "code",
   "execution_count": null,
   "id": "incorporate-belly",
   "metadata": {},
   "outputs": [],
   "source": [
    "# Input\n",
    "ser = pd.Series(np.random.randint(1, 10, 7))\n",
    "ser\n",
    "\n",
    "# Solution\n",
    "print(ser)\n",
    "np.argwhere(ser % 3==0)\n",
    "\n",
    "0    6\n",
    "1    8\n",
    "2    6\n",
    "3    7\n",
    "4    6\n",
    "5    2\n",
    "6    4\n",
    "dtype: int64\n",
    "\n",
    "array([[0],\n",
    "       [2],\n",
    "       [4]])"
   ]
  },
  {
   "cell_type": "markdown",
   "id": "national-marsh",
   "metadata": {},
   "source": [
    "14.  extract items at given positions from a series"
   ]
  },
  {
   "cell_type": "code",
   "execution_count": 32,
   "id": "vulnerable-immunology",
   "metadata": {},
   "outputs": [
    {
     "data": {
      "text/plain": [
       "0     a\n",
       "4     e\n",
       "8     i\n",
       "14    o\n",
       "20    u\n",
       "dtype: object"
      ]
     },
     "execution_count": 32,
     "metadata": {},
     "output_type": "execute_result"
    }
   ],
   "source": [
    "# Input\n",
    "ser = pd.Series(list('abcdefghijklmnopqrstuvwxyz'))\n",
    "pos = [0, 4, 8, 14, 20]\n",
    "\n",
    "# Solution\n",
    "ser.take(pos)"
   ]
  },
  {
   "cell_type": "markdown",
   "id": "chubby-allocation",
   "metadata": {},
   "source": [
    "15. to stack two series vertically and horizontally"
   ]
  },
  {
   "cell_type": "code",
   "execution_count": 33,
   "id": "controversial-length",
   "metadata": {},
   "outputs": [
    {
     "name": "stdout",
     "output_type": "stream",
     "text": [
      "   0  1\n",
      "0  0  a\n",
      "1  1  b\n",
      "2  2  c\n",
      "3  3  d\n",
      "4  4  e\n"
     ]
    }
   ],
   "source": [
    "# Input\n",
    "ser1 = pd.Series(range(5))\n",
    "ser2 = pd.Series(list('abcde'))\n",
    "\n",
    "# Output\n",
    "# Vertical\n",
    "ser1.append(ser2)\n",
    "\n",
    "# Horizontal\n",
    "df = pd.concat([ser1, ser2], axis=1)\n",
    "print(df)"
   ]
  },
  {
   "cell_type": "markdown",
   "id": "surprised-prison",
   "metadata": {},
   "source": [
    "16.  get the positions of items of series A in another series B"
   ]
  },
  {
   "cell_type": "code",
   "execution_count": 34,
   "id": "stupid-sculpture",
   "metadata": {},
   "outputs": [
    {
     "data": {
      "text/plain": [
       "[5, 4, 0, 8]"
      ]
     },
     "execution_count": 34,
     "metadata": {},
     "output_type": "execute_result"
    }
   ],
   "source": [
    "# Input\n",
    "ser1 = pd.Series([10, 9, 6, 5, 3, 1, 12, 8, 13])\n",
    "ser2 = pd.Series([1, 3, 10, 13])\n",
    "\n",
    "# Solution 1\n",
    "[np.where(i == ser1)[0].tolist()[0] for i in ser2]\n",
    "\n",
    "# Solution 2\n",
    "[pd.Index(ser1).get_loc(i) for i in ser2]"
   ]
  },
  {
   "cell_type": "markdown",
   "id": "injured-beverage",
   "metadata": {},
   "source": [
    "17. compute the mean squared error on a truth and predicted series"
   ]
  },
  {
   "cell_type": "code",
   "execution_count": 35,
   "id": "turned-permit",
   "metadata": {},
   "outputs": [
    {
     "data": {
      "text/plain": [
       "0.5164822466180231"
      ]
     },
     "execution_count": 35,
     "metadata": {},
     "output_type": "execute_result"
    }
   ],
   "source": [
    "# Input\n",
    "truth = pd.Series(range(10))\n",
    "pred = pd.Series(range(10)) + np.random.random(10)\n",
    "\n",
    "# Solution\n",
    "np.mean((truth-pred)**2)"
   ]
  },
  {
   "cell_type": "markdown",
   "id": "surprised-debut",
   "metadata": {},
   "source": [
    "18. to convert the first character of each element in a series to uppercase"
   ]
  },
  {
   "cell_type": "code",
   "execution_count": 36,
   "id": "creative-outdoors",
   "metadata": {},
   "outputs": [
    {
     "data": {
      "text/plain": [
       "0     How\n",
       "1      To\n",
       "2    Kick\n",
       "3    Ass?\n",
       "dtype: object"
      ]
     },
     "execution_count": 36,
     "metadata": {},
     "output_type": "execute_result"
    }
   ],
   "source": [
    "# Input\n",
    "ser = pd.Series(['how', 'to', 'lift', 'up?'])\n",
    "\n",
    "# Solution 1\n",
    "ser.map(lambda x: x.title())\n",
    "\n",
    "# Solution 2\n",
    "ser.map(lambda x: x[0].upper() + x[1:])\n",
    "\n",
    "# Solution 3\n",
    "pd.Series([i.title() for i in ser])"
   ]
  },
  {
   "cell_type": "markdown",
   "id": "graduate-justice",
   "metadata": {},
   "source": [
    "19. calculate the number of characters in each word in a series"
   ]
  },
  {
   "cell_type": "code",
   "execution_count": 38,
   "id": "hearing-place",
   "metadata": {},
   "outputs": [
    {
     "data": {
      "text/plain": [
       "0    3\n",
       "1    2\n",
       "2    4\n",
       "3    3\n",
       "dtype: int64"
      ]
     },
     "execution_count": 38,
     "metadata": {},
     "output_type": "execute_result"
    }
   ],
   "source": [
    "# Input\n",
    "ser = pd.Series(['how', 'to', 'lift', 'up?'])\n",
    "\n",
    "# Solution\n",
    "ser.map(lambda x: len(x))"
   ]
  },
  {
   "cell_type": "markdown",
   "id": "veterinary-restoration",
   "metadata": {},
   "source": [
    "20. compute difference of differences between consequtive numbers of a series"
   ]
  },
  {
   "cell_type": "code",
   "execution_count": 40,
   "id": "tested-extreme",
   "metadata": {},
   "outputs": [
    {
     "name": "stdout",
     "output_type": "stream",
     "text": [
      "[nan, 2.0, 3.0, 4.0, 5.0, 6.0, 6.0, 8.0]\n",
      "[nan, nan, 1.0, 1.0, 1.0, 1.0, 0.0, 2.0]\n"
     ]
    }
   ],
   "source": [
    "# Input\n",
    "ser = pd.Series([1, 3, 6, 10, 15, 21, 27, 35])\n",
    "\n",
    "# Solution\n",
    "print(ser.diff().tolist())\n",
    "print(ser.diff().diff().tolist())"
   ]
  },
  {
   "cell_type": "markdown",
   "id": "handled-supplier",
   "metadata": {},
   "source": [
    "21.  convert a series of date-strings to a timeseries"
   ]
  },
  {
   "cell_type": "code",
   "execution_count": 41,
   "id": "electrical-tsunami",
   "metadata": {},
   "outputs": [
    {
     "data": {
      "text/plain": [
       "0   2010-01-01 00:00:00\n",
       "1   2011-02-02 00:00:00\n",
       "2   2012-03-03 00:00:00\n",
       "3   2013-04-04 00:00:00\n",
       "4   2014-05-05 00:00:00\n",
       "5   2015-06-06 12:20:00\n",
       "dtype: datetime64[ns]"
      ]
     },
     "execution_count": 41,
     "metadata": {},
     "output_type": "execute_result"
    }
   ],
   "source": [
    "# Input\n",
    "ser = pd.Series(['01 Jan 2010', '02-02-2011', '20120303', '2013/04/04', '2014-05-05', '2015-06-06T12:20'])\n",
    "\n",
    "# Solution 1\n",
    "from dateutil.parser import parse\n",
    "ser.map(lambda x: parse(x))\n",
    "\n",
    "# Solution 2\n",
    "pd.to_datetime(ser)"
   ]
  },
  {
   "cell_type": "markdown",
   "id": "earlier-vanilla",
   "metadata": {},
   "source": [
    "22. get the day of month, week number, day of year and day of week from a series of date strings"
   ]
  },
  {
   "cell_type": "code",
   "execution_count": 46,
   "id": "viral-capitol",
   "metadata": {},
   "outputs": [
    {
     "name": "stdout",
     "output_type": "stream",
     "text": [
      "Date:  [1, 2, 4, 5, 6]\n",
      "Week number:  [53, 5, 14, 19, 23]\n",
      "Day number of year:  [1, 33, 94, 125, 157]\n"
     ]
    },
    {
     "name": "stderr",
     "output_type": "stream",
     "text": [
      "<ipython-input-46-3ddccf5271b7>:12: FutureWarning: Series.dt.weekofyear and Series.dt.week have been deprecated.  Please use Series.dt.isocalendar().week instead.\n",
      "  print(\"Week number: \", ser_ts.dt.weekofyear.tolist())\n"
     ]
    }
   ],
   "source": [
    "# Input\n",
    "ser = pd.Series(['01 Jan 2010', '02-02-2011',  '2013/04/04', '2014-05-05', '2015-06-06T12:20'])\n",
    "\n",
    "# Solution\n",
    "from dateutil.parser import parse\n",
    "ser_ts = ser.map(lambda x: parse(x))\n",
    "\n",
    "# day of month\n",
    "print(\"Date: \", ser_ts.dt.day.tolist())\n",
    "\n",
    "# week number\n",
    "print(\"Week number: \", ser_ts.dt.weekofyear.tolist())\n",
    "\n",
    "# day of year\n",
    "print(\"Day number of year: \", ser_ts.dt.dayofyear.tolist())\n",
    "\n"
   ]
  },
  {
   "cell_type": "markdown",
   "id": "rough-while",
   "metadata": {},
   "source": [
    "23.  convert year-month string to dates corresponding to the 4th day of the month"
   ]
  },
  {
   "cell_type": "code",
   "execution_count": 47,
   "id": "hindu-sunrise",
   "metadata": {},
   "outputs": [
    {
     "data": {
      "text/plain": [
       "0   2010-01-04\n",
       "1   2011-02-04\n",
       "2   2012-03-04\n",
       "dtype: datetime64[ns]"
      ]
     },
     "execution_count": 47,
     "metadata": {},
     "output_type": "execute_result"
    }
   ],
   "source": [
    "import pandas as pd\n",
    "# Input\n",
    "ser = pd.Series(['Jan 2010', 'Feb 2011', 'Mar 2012'])\n",
    "\n",
    "# Solution 1\n",
    "from dateutil.parser import parse\n",
    "# Parse the date\n",
    "ser_ts = ser.map(lambda x: parse(x))\n",
    "\n",
    "# Construct date string with date as 4\n",
    "ser_datestr = ser_ts.dt.year.astype('str') + '-' + ser_ts.dt.month.astype('str') + '-' + '04'\n",
    "\n",
    "# Format it.\n",
    "[parse(i).strftime('%Y-%m-%d') for i in ser_datestr]\n",
    "\n",
    "# Solution 2\n",
    "ser.map(lambda x: parse('04 ' + x))"
   ]
  },
  {
   "cell_type": "markdown",
   "id": "forbidden-appointment",
   "metadata": {},
   "source": [
    "24.filter words that contain atleast 2 vowels from a series"
   ]
  },
  {
   "cell_type": "code",
   "execution_count": 48,
   "id": "organized-right",
   "metadata": {},
   "outputs": [
    {
     "data": {
      "text/plain": [
       "0     Apple\n",
       "1    Orange\n",
       "4     Money\n",
       "dtype: object"
      ]
     },
     "execution_count": 48,
     "metadata": {},
     "output_type": "execute_result"
    }
   ],
   "source": [
    "# Input\n",
    "ser = pd.Series(['Apple', 'Orange', 'Plan', 'Python', 'Money'])\n",
    "\n",
    "# Solution\n",
    "from collections import Counter\n",
    "mask = ser.map(lambda x: sum([Counter(x.lower()).get(i, 0) for i in list('aeiou')]) >= 2)\n",
    "ser[mask]"
   ]
  },
  {
   "cell_type": "markdown",
   "id": "referenced-array",
   "metadata": {},
   "source": [
    "25. filter valid emails from a series"
   ]
  },
  {
   "cell_type": "code",
   "execution_count": 51,
   "id": "straight-meeting",
   "metadata": {},
   "outputs": [
    {
     "data": {
      "text/plain": [
       "['matt@t.co', 'narendra@modi.com']"
      ]
     },
     "execution_count": 51,
     "metadata": {},
     "output_type": "execute_result"
    }
   ],
   "source": [
    "# Input\n",
    "emails = pd.Series(['buying books at amazom.com', 'matt@t.co', 'narendra@modi.com'])\n",
    "\n",
    "# Solution 1 (as series of strings)\n",
    "import re\n",
    "pattern ='[A-Za-z0-9._%+-]+@[A-Za-z0-9.-]+\\\\.[A-Za-z]{2,4}'\n",
    "mask = emails.map(lambda x: bool(re.match(pattern, x)))\n",
    "emails[mask]\n",
    "\n",
    "# Solution 2 (as series of list)\n",
    "emails.str.findall(pattern, flags=re.IGNORECASE)\n",
    "\n",
    "# Solution 3 (as list)\n",
    "[x[0] for x in [re.findall(pattern, email) for email in emails] if len(x) > 0]"
   ]
  },
  {
   "cell_type": "markdown",
   "id": "included-gentleman",
   "metadata": {},
   "source": [
    "26. get the mean of a series grouped by another series"
   ]
  },
  {
   "cell_type": "code",
   "execution_count": 52,
   "id": "solar-experiment",
   "metadata": {},
   "outputs": [
    {
     "data": {
      "text/plain": [
       "apple     6.250000\n",
       "banana    5.666667\n",
       "carrot    4.333333\n",
       "dtype: float64"
      ]
     },
     "execution_count": 52,
     "metadata": {},
     "output_type": "execute_result"
    }
   ],
   "source": [
    "# Input\n",
    "fruit = pd.Series(np.random.choice(['apple', 'banana', 'carrot'], 10))\n",
    "weights = pd.Series(np.linspace(1, 10, 10))\n",
    "\n",
    "# Solution\n",
    "weights.groupby(fruit).mean()"
   ]
  },
  {
   "cell_type": "markdown",
   "id": "brilliant-submission",
   "metadata": {},
   "source": [
    "27.  compute the euclidean distance between two series"
   ]
  },
  {
   "cell_type": "code",
   "execution_count": 53,
   "id": "future-insertion",
   "metadata": {},
   "outputs": [
    {
     "data": {
      "text/plain": [
       "18.16590212458495"
      ]
     },
     "execution_count": 53,
     "metadata": {},
     "output_type": "execute_result"
    }
   ],
   "source": [
    "# Input\n",
    "p = pd.Series([1, 2, 3, 4, 5, 6, 7, 8, 9, 10])\n",
    "q = pd.Series([10, 9, 8, 7, 6, 5, 4, 3, 2, 1])\n",
    "\n",
    "# Solution \n",
    "sum((p - q)**2)**.5\n",
    "\n",
    "# Solution (using func)\n",
    "np.linalg.norm(p-q)"
   ]
  },
  {
   "cell_type": "markdown",
   "id": "invisible-addition",
   "metadata": {},
   "source": [
    "28.  find all the local maxima (or peaks) in a numeric series"
   ]
  },
  {
   "cell_type": "code",
   "execution_count": 54,
   "id": "coastal-upgrade",
   "metadata": {},
   "outputs": [
    {
     "data": {
      "text/plain": [
       "array([1, 5, 7], dtype=int32)"
      ]
     },
     "execution_count": 54,
     "metadata": {},
     "output_type": "execute_result"
    }
   ],
   "source": [
    "# Input\n",
    "ser = pd.Series([2, 10, 3, 4, 9, 10, 2, 7, 3])\n",
    "\n",
    "# Solution\n",
    "dd = np.diff(np.sign(np.diff(ser)))\n",
    "peak_locs = np.where(dd == -2)[0] + 1\n",
    "peak_locs"
   ]
  },
  {
   "cell_type": "markdown",
   "id": "economic-vanilla",
   "metadata": {},
   "source": [
    "29. replace missing spaces in a string with the least frequent character"
   ]
  },
  {
   "cell_type": "code",
   "execution_count": 55,
   "id": "prepared-compact",
   "metadata": {},
   "outputs": [
    {
     "name": "stdout",
     "output_type": "stream",
     "text": [
      "d    4\n",
      "e    3\n",
      "b    3\n",
      "     3\n",
      "a    2\n",
      "c    1\n",
      "g    1\n",
      "dtype: int64\n"
     ]
    },
    {
     "data": {
      "text/plain": [
       "'dbcgdebgabedggade'"
      ]
     },
     "execution_count": 55,
     "metadata": {},
     "output_type": "execute_result"
    }
   ],
   "source": [
    "# Input\n",
    "my_str = 'dbc deb abed gade'\n",
    "\n",
    "# Solution\n",
    "ser = pd.Series(list('dbc deb abed gade'))\n",
    "freq = ser.value_counts()\n",
    "print(freq)\n",
    "least_freq = freq.dropna().index[-1]\n",
    "\"\".join(ser.replace(' ', least_freq))"
   ]
  },
  {
   "cell_type": "markdown",
   "id": "based-princess",
   "metadata": {},
   "source": [
    "30. create a TimeSeries starting ‘2000-01-01’ and 10 weekends (saturdays) after that having random numbers as values"
   ]
  },
  {
   "cell_type": "code",
   "execution_count": 56,
   "id": "foster-democracy",
   "metadata": {},
   "outputs": [
    {
     "data": {
      "text/plain": [
       "2000-01-01    7\n",
       "2000-01-08    7\n",
       "2000-01-15    2\n",
       "2000-01-22    4\n",
       "2000-01-29    1\n",
       "2000-02-05    2\n",
       "2000-02-12    9\n",
       "2000-02-19    3\n",
       "2000-02-26    3\n",
       "2000-03-04    6\n",
       "Freq: W-SAT, dtype: int32"
      ]
     },
     "execution_count": 56,
     "metadata": {},
     "output_type": "execute_result"
    }
   ],
   "source": [
    "# Solution\n",
    "ser = pd.Series(np.random.randint(1,10,10), pd.date_range('2000-01-01', periods=10, freq='W-SAT'))\n",
    "ser"
   ]
  },
  {
   "cell_type": "markdown",
   "id": "attempted-oracle",
   "metadata": {},
   "source": [
    "31. fill an intermittent time series so all missing dates show up with values of previous non-missing date"
   ]
  },
  {
   "cell_type": "code",
   "execution_count": 57,
   "id": "olympic-commodity",
   "metadata": {},
   "outputs": [
    {
     "data": {
      "text/plain": [
       "2000-01-01     1.0\n",
       "2000-01-02    10.0\n",
       "2000-01-03    10.0\n",
       "2000-01-04     3.0\n",
       "2000-01-05     3.0\n",
       "2000-01-06     3.0\n",
       "2000-01-07     3.0\n",
       "2000-01-08     3.0\n",
       "Freq: D, dtype: float64"
      ]
     },
     "execution_count": 57,
     "metadata": {},
     "output_type": "execute_result"
    }
   ],
   "source": [
    "# Input\n",
    "ser = pd.Series([1,10,3, np.nan], index=pd.to_datetime(['2000-01-01', '2000-01-03', '2000-01-06', '2000-01-08']))\n",
    "\n",
    "# Solution\n",
    "ser.resample('D').ffill()  # fill with previous value\n",
    "\n",
    "# Alternatives\n",
    "ser.resample('D').bfill()  # fill with next value\n",
    "ser.resample('D').bfill().ffill()  # fill next else prev value"
   ]
  },
  {
   "cell_type": "markdown",
   "id": "unauthorized-plastic",
   "metadata": {},
   "source": [
    "32.  create a dataframe with rows as strides from a given series"
   ]
  },
  {
   "cell_type": "code",
   "execution_count": 60,
   "id": "pharmaceutical-prerequisite",
   "metadata": {},
   "outputs": [
    {
     "data": {
      "text/plain": [
       "array([[ 0,  1,  2,  3],\n",
       "       [ 2,  3,  4,  5],\n",
       "       [ 4,  5,  6,  7],\n",
       "       [ 6,  7,  8,  9],\n",
       "       [ 8,  9, 10, 11],\n",
       "       [10, 11, 12, 13]], dtype=int64)"
      ]
     },
     "execution_count": 60,
     "metadata": {},
     "output_type": "execute_result"
    }
   ],
   "source": [
    "L = pd.Series(range(15))\n",
    "\n",
    "def gen_strides(a, stride_len=5, window_len=5):\n",
    "    n_strides = ((a.size-window_len)//stride_len) + 1\n",
    "    return np.array([a[s:(s+window_len)] for s in np.arange(0, a.size, stride_len)[:n_strides]])\n",
    "\n",
    "gen_strides(L, stride_len=2, window_len=4)"
   ]
  },
  {
   "cell_type": "markdown",
   "id": "charitable-plate",
   "metadata": {},
   "source": [
    "33.  change the order of columns of a dataframe\n",
    "\n"
   ]
  },
  {
   "cell_type": "code",
   "execution_count": 61,
   "id": "related-coordinator",
   "metadata": {},
   "outputs": [],
   "source": [
    "# Input\n",
    "df = pd.DataFrame(np.arange(20).reshape(-1, 5), columns=list('abcde'))\n",
    "\n",
    "# Solution Q1\n",
    "df[list('cbade')]\n",
    "\n",
    "# Solution Q2 - No hard coding\n",
    "def switch_columns(df, col1=None, col2=None):\n",
    "    colnames = df.columns.tolist()\n",
    "    i1, i2 = colnames.index(col1), colnames.index(col2)\n",
    "    colnames[i2], colnames[i1] = colnames[i1], colnames[i2]\n",
    "    return df[colnames]\n",
    "\n",
    "df1 = switch_columns(df, 'a', 'c')\n",
    "\n",
    "# Solution Q3\n",
    "df[sorted(df.columns)]\n",
    "# or\n",
    "df.sort_index(axis=1, ascending=False, inplace=True)"
   ]
  },
  {
   "cell_type": "markdown",
   "id": "agricultural-reminder",
   "metadata": {},
   "source": [
    "34.format or suppress scientific notations in a pandas dataframe"
   ]
  },
  {
   "cell_type": "code",
   "execution_count": 62,
   "id": "amino-shell",
   "metadata": {},
   "outputs": [
    {
     "name": "stdout",
     "output_type": "stream",
     "text": [
      "   random\n",
      "0  0.0000\n",
      "1  0.0054\n",
      "2  0.0002\n",
      "3  0.0000\n"
     ]
    }
   ],
   "source": [
    "# Input\n",
    "df = pd.DataFrame(np.random.random(4)**10, columns=['random'])\n",
    "\n",
    "# Solution 1: Rounding\n",
    "df.round(4)\n",
    "\n",
    "# Solution 2: Use apply to change format\n",
    "df.apply(lambda x: '%.4f' % x, axis=1)\n",
    "# or\n",
    "df.applymap(lambda x: '%.4f' % x)\n",
    "\n",
    "# Solution 3: Use set_option\n",
    "pd.set_option('display.float_format', lambda x: '%.4f' % x)\n",
    "\n",
    "# Solution 4: Assign display.float_format\n",
    "pd.options.display.float_format = '{:.4f}'.format\n",
    "print(df)\n",
    "\n",
    "# Reset/undo float formatting\n",
    "pd.options.display.float_format = None"
   ]
  },
  {
   "cell_type": "markdown",
   "id": "decreased-certification",
   "metadata": {},
   "source": [
    "35. get the row number of the nth largest value in a column"
   ]
  },
  {
   "cell_type": "code",
   "execution_count": 65,
   "id": "substantial-salem",
   "metadata": {},
   "outputs": [
    {
     "data": {
      "text/plain": [
       "9"
      ]
     },
     "execution_count": 65,
     "metadata": {},
     "output_type": "execute_result"
    }
   ],
   "source": [
    "# Input\n",
    "df = pd.DataFrame(np.random.randint(1, 30, 30).reshape(10,-1), columns=list('abc'))\n",
    "\n",
    "# Solution\n",
    "n = 5\n",
    "df['a'].argsort()[::-1][n]"
   ]
  },
  {
   "cell_type": "markdown",
   "id": "caring-hacker",
   "metadata": {},
   "source": [
    "36.   reshape a dataframe to the largest possible square after removing the negative values"
   ]
  },
  {
   "cell_type": "code",
   "execution_count": 73,
   "id": "saving-biology",
   "metadata": {},
   "outputs": [
    {
     "name": "stdout",
     "output_type": "stream",
     "text": [
      "    0   1   2   3   4   5   6   7   8   9\n",
      "0  17  21   0 -20  39   2  -2  46  27  24\n",
      "1 -10  33   3  -8 -14  26  10  19 -20 -20\n",
      "2  21 -13  36  49  41  44  29  10  40 -11\n",
      "3  18   5  21  29 -11   8  41  -2  47  41\n",
      "4  21  39   0   3  22  38  46   4  11  49\n",
      "5   1  -7  32  44  22  26  11  36  12  40\n",
      "6 -13  11   4  11  10  25 -13  18  -4  44\n",
      "7  23  10  48  43 -20  25  17 -14 -12  35\n",
      "8 -19  44  34  43  27  40   0   7  20  10\n",
      "9 -12  44  30  -7  30 -20   9  10  17  15\n",
      "[[17. 21. 39. 46. 27. 24. 33. 26.]\n",
      " [10. 19. 21. 36. 49. 41. 44. 29.]\n",
      " [10. 40. 18. 21. 29. 41. 47. 41.]\n",
      " [21. 39. 22. 38. 46. 11. 49. 32.]\n",
      " [44. 22. 26. 11. 36. 12. 40. 11.]\n",
      " [11. 25. 18. 44. 23. 10. 48. 43.]\n",
      " [25. 17. 35. 44. 34. 43. 27. 40.]\n",
      " [20. 10. 44. 30. 30. 10. 17. 15.]]\n"
     ]
    }
   ],
   "source": [
    "df = pd.DataFrame(np.random.randint(-20, 50, 100).reshape(10,-1))\n",
    "print(df)\n",
    "\n",
    "# Solution\n",
    "# Step 1: remove negative values from arr\n",
    "arr = df[df > 0].values.flatten()\n",
    "arr_qualified = arr[~np.isnan(arr)]\n",
    "\n",
    "# Step 2: find side-length of largest possible square\n",
    "n = int(np.floor(arr_qualified.shape[0]**.5))\n",
    "\n",
    "# Step 3: Take top n^2 items without changing positions\n",
    "top_indexes = np.argsort(arr_qualified)[::-1]\n",
    "output = np.take(arr_qualified, sorted(top_indexes[:n**2])).reshape(n, -1)\n",
    "print(output)"
   ]
  },
  {
   "cell_type": "markdown",
   "id": "inside-miniature",
   "metadata": {},
   "source": [
    "37. reverse the rows of a dataframe"
   ]
  },
  {
   "cell_type": "code",
   "execution_count": 74,
   "id": "banned-reservoir",
   "metadata": {},
   "outputs": [
    {
     "name": "stdout",
     "output_type": "stream",
     "text": [
      "    0   1   2   3   4\n",
      "4  20  21  22  23  24\n",
      "3  15  16  17  18  19\n",
      "2  10  11  12  13  14\n",
      "1   5   6   7   8   9\n",
      "0   0   1   2   3   4\n"
     ]
    }
   ],
   "source": [
    "# Input\n",
    "df = pd.DataFrame(np.arange(25).reshape(5, -1))\n",
    "\n",
    "# Solution 1\n",
    "df.iloc[::-1, :]\n",
    "\n",
    "# Solution 2\n",
    "print(df.loc[df.index[::-1], :])"
   ]
  },
  {
   "cell_type": "markdown",
   "id": "related-reputation",
   "metadata": {},
   "source": [
    "38. normalize all columns in a dataframe"
   ]
  },
  {
   "cell_type": "code",
   "execution_count": 75,
   "id": "victorian-jerusalem",
   "metadata": {},
   "outputs": [
    {
     "name": "stdout",
     "output_type": "stream",
     "text": [
      "Solution Q1\n",
      "       0     1     2     3     4     5     6     7     8     9\n",
      "0  0.53  1.33 -1.71 -0.92  1.32  1.16 -0.82  1.59  0.11  0.05\n",
      "1  1.83 -0.86  0.15 -1.01 -1.20  0.73 -0.46 -0.47 -1.11 -0.72\n",
      "2 -0.70  0.16  0.97  0.19  1.12  0.39  0.62  0.37 -0.51 -0.94\n",
      "3 -1.18  1.22  0.65 -0.15  0.44 -0.01 -0.73 -1.12  1.43  1.16\n",
      "4  0.12 -0.22  0.04  1.34 -0.52 -1.11 -0.37 -0.31 -0.20 -1.46\n",
      "5  0.01 -1.58  1.30 -0.67 -0.35 -0.62  2.06 -1.22 -0.67  1.13\n",
      "6  0.49 -0.48 -0.74 -0.41 -1.31 -1.54  0.48  1.12  1.59  0.91\n",
      "7 -1.11  0.43 -0.67  1.64  0.50  0.99 -0.78  0.03 -0.64 -0.13\n",
      "Solution Q2\n",
      "       0     1     2     3     4     5     6     7     8     9\n",
      "0  0.43  0.00  1.00  0.97  0.00  0.00  1.00  0.00  0.55  0.42\n",
      "1  0.00  0.75  0.38  1.00  0.96  0.16  0.88  0.73  1.00  0.72\n",
      "2  0.84  0.40  0.11  0.55  0.08  0.29  0.50  0.43  0.78  0.80\n",
      "3  1.00  0.04  0.21  0.68  0.33  0.44  0.97  0.97  0.06  0.00\n",
      "4  0.57  0.53  0.42  0.11  0.70  0.84  0.84  0.68  0.66  1.00\n",
      "5  0.60  1.00  0.00  0.87  0.63  0.66  0.00  1.00  0.84  0.01\n",
      "6  0.44  0.62  0.68  0.77  1.00  1.00  0.55  0.17  0.00  0.09\n",
      "7  0.98  0.31  0.65  0.00  0.31  0.06  0.98  0.56  0.83  0.49\n"
     ]
    }
   ],
   "source": [
    "# Input\n",
    "df = pd.DataFrame(np.random.randint(1,100, 80).reshape(8, -1))\n",
    "\n",
    "# Solution Q1\n",
    "out1 = df.apply(lambda x: ((x - x.mean())/x.std()).round(2))\n",
    "print('Solution Q1\\n',out1)\n",
    "\n",
    "# Solution Q2\n",
    "out2 = df.apply(lambda x: ((x.max() - x)/(x.max() - x.min())).round(2))\n",
    "print('Solution Q2\\n', out2)  "
   ]
  },
  {
   "cell_type": "code",
   "execution_count": null,
   "id": "nutritional-november",
   "metadata": {},
   "outputs": [],
   "source": []
  },
  {
   "cell_type": "code",
   "execution_count": null,
   "id": "reported-customs",
   "metadata": {},
   "outputs": [],
   "source": []
  },
  {
   "cell_type": "code",
   "execution_count": null,
   "id": "macro-hometown",
   "metadata": {},
   "outputs": [],
   "source": []
  },
  {
   "cell_type": "code",
   "execution_count": null,
   "id": "danish-norman",
   "metadata": {},
   "outputs": [],
   "source": []
  },
  {
   "cell_type": "code",
   "execution_count": null,
   "id": "streaming-experiment",
   "metadata": {},
   "outputs": [],
   "source": []
  }
 ],
 "metadata": {
  "kernelspec": {
   "display_name": "Python 3",
   "language": "python",
   "name": "python3"
  },
  "language_info": {
   "codemirror_mode": {
    "name": "ipython",
    "version": 3
   },
   "file_extension": ".py",
   "mimetype": "text/x-python",
   "name": "python",
   "nbconvert_exporter": "python",
   "pygments_lexer": "ipython3",
   "version": "3.8.6"
  }
 },
 "nbformat": 4,
 "nbformat_minor": 5
}
