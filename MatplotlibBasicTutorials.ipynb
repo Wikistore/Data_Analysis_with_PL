{
 "cells": [
  {
   "cell_type": "markdown",
   "id": "verbal-pressure",
   "metadata": {},
   "source": [
    "Matplotlib\n",
    "1. Introduction\n",
    "Matplotlib is the most popular plotting library in python. Using matplotlib, you can create pretty much any type of plot. However, as your plots get more complex, the learning curve can get steeper.\n",
    "\n",
    "\n",
    "\n",
    "Human minds are more adaptive for the visual representation of data rather than textual data. We can easily understand things when they are visualized. It is better to represent the data through the graph where we can analyze the data more efficiently and make the specific decision according to data analysis. Before learning the matplotlib, we need to understand data visualization and why data visualization is important.\n",
    "\n",
    "Data Visualization\n",
    "Data visualization is a new term. It expresses the idea that involves more than just representing data in the graphical form (instead of using textual form).\n",
    "This can be very helpful when discovering and getting to know a dataset and can help with classifying patterns, corrupt data, outliers, and much more. With a little domain knowledge, data visualizations can be used to express and demonstrate key relationships in plots and charts. The static does indeed focus on quantitative description and estimations of data. It provides an important set of tools for gaining a qualitative understanding.\n",
    "\n",
    "There are five key plots that are used for data visualization.\n",
    "1.Bar Graph\n",
    "2.Histogram\n",
    "3.Scatter Plot\n",
    "4.Area plot \n",
    "5.Pie Pot\n",
    "\n",
    "\n",
    "There are four phases which are essential to make the decision for the organization:\n",
    "1.Visualize: We analyze the raw data, which means it makes complex data more accessible, understandable, and more usable. Tabular data representation is used where the user will look up a specific measurement, while the chart of several types is used to show patterns or relationships in the data for one or more variables.\n",
    "\n",
    "2.Analysis: Data analysis is defined as cleaning, inspecting, transforming, and modeling data to derive useful information. Whenever we make a decision for the business or in daily life, is by past experience. What will happen to choose a particular decision, it is nothing but analyzing our past. That may be affected in the future, so the proper analysis is necessary for better decisions for any business or organization.\n",
    "\n",
    "\n",
    "3.Document Insight: Document insight is the process where the useful data or information is organized in the document in the standard format.\n",
    "\n",
    "4.Transform Data Set: Standard data is used to make the decision more effectively.\n",
    "\n",
    "\n",
    "Why need data visualization?\n",
    "Data visualization can perform below tasks:\n",
    "It identifies areas that need improvement and attention.\n",
    "It clarifies the factors.\n",
    "It helps to understand which product to place where.\n",
    "Predict sales volumes.\n",
    "Benefit of data visualization:\n",
    "\n",
    "1. Building ways of absorbing information\n",
    "\n",
    "Data visualization allows users to receive vast amounts of information regarding operational and business conditions. It helps decision-makers to see the relationship between multi-dimensional data sets. It offers new ways to analyses data through the use of maps, fever charts, and other rich graphical representations.\n",
    "\n",
    "Visual data discovery is more likely to find the information that the organization needs and then end up with being more productive than other competitive companies.\n",
    "\n",
    "2. Visualize relationship and patterns in Businesses\n",
    "\n",
    "The crucial advantage of data visualization is that it is essential to find the correlation between operating conditions and business performance in today's highly competitive business environment.\n",
    "The ability to make these types of correlations enables the executives to identify the root cause of the problem and act quickly to resolve it.\n",
    "\n",
    "Suppose a food company is looking their monthly customer data, and the data is presented with bar charts, which shows that the company's score has dropped by five points in the previous months in that particular region; the data suggest that there's a problem with customer satisfaction in this area.\n",
    "\n",
    "3. Take action on the emerging trends faster\n",
    "Data visualization allows the decision-maker to grasp shifts in customer behavior and market conditions across multiple data sets more efficiently.\n",
    "\n",
    "Having an idea about the customer's sentiments and other data discloses an emerging opportunity for the company to act on new business opportunities ahead of their competitor.\n",
    "\n",
    "4. Geological based Visualization\n",
    "\n",
    "Geo-spatial visualization is occurred due to many websites providing web-services, attracting visitor's interest. These types of websites are required to take benefit of location-specific information, which is already present in the customer details.\n",
    "\n",
    "Matplotlib is a Python library which is defined as a multi-platform data visualization library built on Numpy array. It can be used in python scripts, shell, web application, and other graphical user interface toolkit.\n",
    "\n",
    "The John D. Hunter originally conceived the matplotlib in 2002. It has an active development community and is distributed under a BSD-style license. Its first version was released in 2003, and the latest version 3.1.1 is released on 1 July 2019.\n",
    "\n",
    "Matplotlib 2.0.x supports Python versions 2.7 to 3.6 till 23 June 2007. Python3 support started with Matplotlib 1.2. Matplotlib 1.4 is the last version that supports Python 2.6.\n",
    "\n",
    "There are various toolkits available that are used to enhance the functionality of the matplotlib. Some of these tools are downloaded separately, others can be shifted with the matplotlib source code but have external dependencies.\n",
    "\n",
    "Bashmap: It is a map plotting toolkit with several map projections, coastlines, and political boundaries.\n",
    "Cartopy: It is a mapping library consisting of object-oriented map projection definitions, and arbitrary point, line, polygon, and image transformation abilities.\n",
    "Excel tools: Matplotlib provides the facility to utilities for exchanging data with Microsoft Excel.\n",
    "Mplot3d: It is used for 3D plots.\n",
    "Natgrid: It is an interface to the Natgrid library for irregular gridding of the spaced data.\n",
    "\n",
    "\n"
   ]
  },
  {
   "cell_type": "markdown",
   "id": "thousand-rough",
   "metadata": {},
   "source": [
    "Matplotlib Architecture\n",
    "There are three different layers in the architecture of the matplotlib which are the following:\n",
    "\n",
    "Backend Layer\n",
    "Artist layer\n",
    "Scripting layer"
   ]
  },
  {
   "cell_type": "markdown",
   "id": "incorporate-upgrade",
   "metadata": {},
   "source": [
    "Backend layer\n",
    "\n",
    "The backend layer is the bottom layer of the figure, which consists of the implementation of the various functions that are necessary for plotting. There are three essential classes from the backend layer FigureCanvas(The surface on which the figure will be drawn), Renderer(The class that takes care of the drawing on the surface), and Event(It handle the mouse and keyboard events)."
   ]
  },
  {
   "cell_type": "markdown",
   "id": "threaded-merit",
   "metadata": {},
   "source": [
    "Artist Layer\n",
    "\n",
    "The artist layer is the second layer in the architecture. It is responsible for the various plotting functions, like axis, which coordinates on how to use the renderer on the figure canvas.\n",
    "\n",
    "Scripting layer\n",
    "\n",
    "The scripting layer is the topmost layer on which most of our code will run. The methods in the scripting layer, almost automatically take care of the other layers, and all we need to care about is the current state (figure & subplot)."
   ]
  },
  {
   "cell_type": "markdown",
   "id": "equivalent-evening",
   "metadata": {},
   "source": [
    "The General Concept of Matplotlib\n",
    "\n",
    "A Matplotlib figure can be categorized into various parts as below:"
   ]
  },
  {
   "cell_type": "markdown",
   "id": "changing-superintendent",
   "metadata": {},
   "source": [
    "<img src=\"image/image1.png\" alt=\"Example\"/>"
   ]
  },
  {
   "cell_type": "markdown",
   "id": "professional-habitat",
   "metadata": {},
   "source": [
    "Figure: It is a whole figure which may hold one or more axes (plots). We can think of a Figure as a canvas that holds plots."
   ]
  },
  {
   "cell_type": "markdown",
   "id": "strong-update",
   "metadata": {},
   "source": [
    "Axes: A Figure can contain several Axes. It consists of two or three (in the case of 3D) Axis objects. Each Axes is comprised of a title, an x-label, and a y-label."
   ]
  },
  {
   "cell_type": "markdown",
   "id": "solid-crime",
   "metadata": {},
   "source": [
    "Axis: Axises are the number of line like objects and responsible for generating the graph limits."
   ]
  },
  {
   "cell_type": "markdown",
   "id": "opposed-pierce",
   "metadata": {},
   "source": [
    "Artist: An artist is the all which we see on the graph like Text objects, Line2D objects, and collection objects. Most Artists are tied to Axes."
   ]
  },
  {
   "cell_type": "markdown",
   "id": "global-aggregate",
   "metadata": {},
   "source": [
    "Installing Matplotlib\n",
    "Before start working with the Matplotlib or its plotting functions first, it needs to be installed. The installation of matplotlib is dependent on the distribution that is installed on your computer. These installation methods are following:"
   ]
  },
  {
   "cell_type": "markdown",
   "id": "acknowledged-order",
   "metadata": {},
   "source": [
    "## Install Matplotlib with pip\n",
    "\n",
    "The python package manager pip is also used to install matplotlib. Open the command prompt window, and type the following command:\n",
    "\n",
    "pip install matplotlib  \n"
   ]
  },
  {
   "cell_type": "markdown",
   "id": "attached-nelson",
   "metadata": {},
   "source": [
    "## Verify the Installation\n",
    "To verify that matplotlib is installed properly or not, type the following command includes calling .__version __ in the terminal."
   ]
  },
  {
   "cell_type": "code",
   "execution_count": 1,
   "id": "received-canvas",
   "metadata": {},
   "outputs": [
    {
     "data": {
      "text/plain": [
       "'3.3.4'"
      ]
     },
     "execution_count": 1,
     "metadata": {},
     "output_type": "execute_result"
    }
   ],
   "source": [
    "import matplotlib  \n",
    "matplotlib.__version__ "
   ]
  },
  {
   "cell_type": "markdown",
   "id": "cardiac-chase",
   "metadata": {},
   "source": [
    "## Basic Example of plotting Graph\n",
    "Here is the basic example of generating a simple graph; the program is following:"
   ]
  },
  {
   "cell_type": "code",
   "execution_count": 2,
   "id": "worldwide-tobago",
   "metadata": {},
   "outputs": [
    {
     "data": {
      "image/png": "[encoded data removed]",
      "text/plain": [
       "<Figure size 432x288 with 1 Axes>"
      ]
     },
     "metadata": {
      "needs_background": "light"
     },
     "output_type": "display_data"
    }
   ],
   "source": [
    "from matplotlib import pyplot as plt  \n",
    "#ploting our canvas  \n",
    "plt.plot([1,2,3],[4,5,1])  \n",
    "#display the graph  \n",
    "plt.show()  "
   ]
  },
  {
   "cell_type": "markdown",
   "id": "behavioral-thing",
   "metadata": {},
   "source": [
    "It takes only three lines to plot a simple graph using the Python matplotlib. We can add titles, labels to our chart which are created by Python matplotlib library to make it more meaningful. The example is the following:"
   ]
  },
  {
   "cell_type": "code",
   "execution_count": 3,
   "id": "enormous-southeast",
   "metadata": {},
   "outputs": [
    {
     "data": {
      "image/png": "[encoded data removed]",
      "text/plain": [
       "<Figure size 432x288 with 1 Axes>"
      ]
     },
     "metadata": {
      "needs_background": "light"
     },
     "output_type": "display_data"
    }
   ],
   "source": [
    "from matplotlib import pyplot as plt  \n",
    "  \n",
    "x = [5, 2, 7]  \n",
    "y = [1, 10, 4]  \n",
    "plt.plot(x, y)  \n",
    "plt.title('Line graph')  \n",
    "plt.ylabel('Y axis')  \n",
    "plt.xlabel('X axis')  \n",
    "plt.show()  "
   ]
  },
  {
   "cell_type": "markdown",
   "id": "extensive-vulnerability",
   "metadata": {},
   "source": [
    "The graph is more understandable from the previous graph."
   ]
  },
  {
   "cell_type": "markdown",
   "id": "large-forge",
   "metadata": {},
   "source": [
    "## Working with Pyplot\n",
    "The matplotlib.pyplot is the collection command style functions that make matplotlib feel like working with MATLAB. The pyplot functions are used to make some changes to figure such as create a figure, creates a plotting area in a figure, plots some lines in a plotting area, decorates the plot including labels, etc.\n",
    "\n",
    "It is good to use when we want to plot something quickly without instantiating any figure or Axes.\n",
    "\n",
    "While working with matplotlib.pyplot, some states are stored across function calls so that it keeps track of the things like current figure and plotting area, and these plotting functions are directed to the current axes.\n",
    "\n",
    "The pyplot module provide the plot() function which is frequently use to plot a graph. Let's have a look on the simple example:"
   ]
  },
  {
   "cell_type": "code",
   "execution_count": 4,
   "id": "recognized-sweden",
   "metadata": {},
   "outputs": [
    {
     "data": {
      "image/png": "[encoded data removed]",
      "text/plain": [
       "<Figure size 432x288 with 1 Axes>"
      ]
     },
     "metadata": {
      "needs_background": "light"
     },
     "output_type": "display_data"
    }
   ],
   "source": [
    "from matplotlib import pyplot as plt  \n",
    "plt.plot([1,2,3,4,5])  \n",
    "plt.ylabel(\"y axis\")  \n",
    "plt.xlabel('x axis')  \n",
    "plt.show()  "
   ]
  },
  {
   "cell_type": "markdown",
   "id": "informed-schedule",
   "metadata": {},
   "source": [
    "In the above program, it plots the graph x-axis ranges from 0-4 and the y-axis from 1-5. If we provide a single list to the plot(), matplotlib assumes it is a sequence of y values, and automatically generates the x values. Since we know that python index starts at 0, the default x vector has the same length as y but starts at 0. Hence the x data are [0, 1, 2, 3, 4]."
   ]
  },
  {
   "cell_type": "markdown",
   "id": "neutral-tomato",
   "metadata": {},
   "source": [
    "We can pass the arbitrary number of arguments to the plot(). For example, to plot x versus y, we can do this following way:"
   ]
  },
  {
   "cell_type": "code",
   "execution_count": 5,
   "id": "living-conversion",
   "metadata": {},
   "outputs": [
    {
     "data": {
      "image/png": "[encoded data removed]",
      "text/plain": [
       "<Figure size 432x288 with 1 Axes>"
      ]
     },
     "metadata": {
      "needs_background": "light"
     },
     "output_type": "display_data"
    }
   ],
   "source": [
    "from matplotlib import pyplot as plt  \n",
    "plt.plot([1,2,3,4,5],[1,4,9,16,25])  \n",
    "plt.ylabel(\"y axis\")  \n",
    "plt.xlabel('x axis')  \n",
    "plt.show()  "
   ]
  },
  {
   "cell_type": "markdown",
   "id": "juvenile-routine",
   "metadata": {},
   "source": [
    "## Formatting the style of the plot"
   ]
  },
  {
   "cell_type": "markdown",
   "id": "realistic-introduction",
   "metadata": {},
   "source": [
    "There is an optional third argument, which is a format string that indicates the color and line type of the plot. The default format string is 'b-'which is the solid blue as you can observe in the above plotted graph. Let's consider the following example where we plot the graph with the red circle"
   ]
  },
  {
   "cell_type": "code",
   "execution_count": 9,
   "id": "computational-discussion",
   "metadata": {},
   "outputs": [
    {
     "data": {
      "image/png": "[encoded data removed]",
      "text/plain": [
       "<Figure size 432x288 with 1 Axes>"
      ]
     },
     "metadata": {
      "needs_background": "light"
     },
     "output_type": "display_data"
    }
   ],
   "source": [
    "from matplotlib import pyplot as plt  \n",
    "plt.plot([1, 2, 3, 4,5], [1, 4, 9, 16,25], '^k')  \n",
    "plt.axis([0, 6, 0, 20])  \n",
    "plt.show()  "
   ]
  },
  {
   "cell_type": "markdown",
   "id": "confidential-advance",
   "metadata": {},
   "source": [
    "## String format example"
   ]
  },
  {
   "cell_type": "markdown",
   "id": "veterinary-portable",
   "metadata": {},
   "source": [
    "'b'\tUsing for the blue marker with default shape.\n",
    "\n",
    "'ro'\tRed circle\n",
    "\n",
    "'-g'\tGreen solid line\n",
    "\n",
    "'--'\tA dashed line with the default color\n",
    "\n",
    "'^k:'\tBlack triangle up markers connected by a dotted line"
   ]
  },
  {
   "cell_type": "markdown",
   "id": "helpful-natural",
   "metadata": {},
   "source": [
    "The matplotlib supports the following color abbreviation:"
   ]
  },
  {
   "cell_type": "markdown",
   "id": "earlier-customs",
   "metadata": {},
   "source": [
    "* Character  Color\n",
    "* 'b'         Blue\n",
    "* 'g'         Green\n",
    "* 'r'         Red\n",
    "* 'c'         Cyan\n",
    "* 'm'         Magenta\n",
    "* 'y'         Yellow\n",
    "* 'k'         Black\n",
    "* 'w'         White"
   ]
  },
  {
   "cell_type": "markdown",
   "id": "sensitive-street",
   "metadata": {},
   "source": [
    "## Plotting with categorical variables"
   ]
  },
  {
   "cell_type": "markdown",
   "id": "statutory-collection",
   "metadata": {},
   "source": [
    "Matplotlib allows us to pass categorical variables directly to many plotting functions: consider the following example"
   ]
  },
  {
   "cell_type": "code",
   "execution_count": 12,
   "id": "emerging-parish",
   "metadata": {},
   "outputs": [
    {
     "data": {
      "image/png": "[encoded data removed]",
      "text/plain": [
       "<Figure size 648x216 with 3 Axes>"
      ]
     },
     "metadata": {
      "needs_background": "light"
     },
     "output_type": "display_data"
    }
   ],
   "source": [
    "from matplotlib import pyplot  \n",
    "names = ['Abhishek', 'Himanshu', 'Devansh']  \n",
    "marks= [87,50,98]  \n",
    "  \n",
    "plt.figure(figsize=(9,3))  \n",
    "  \n",
    "plt.subplot(131)  \n",
    "plt.bar(names, marks)  \n",
    "plt.subplot(132)  \n",
    "plt.scatter(names, marks)  \n",
    "plt.subplot(133)  \n",
    "plt.plot(names, marks)  \n",
    "plt.suptitle('Categorical Plotting')  \n",
    "plt.show()  "
   ]
  },
  {
   "cell_type": "markdown",
   "id": "proper-qatar",
   "metadata": {},
   "source": [
    "In the above program, we have plotted the categorical graph using the subplot() function. Let's a have a look on the subplot() function."
   ]
  },
  {
   "cell_type": "markdown",
   "id": "ranging-swedish",
   "metadata": {},
   "source": [
    "## What is subplot()"
   ]
  },
  {
   "cell_type": "markdown",
   "id": "knowing-original",
   "metadata": {},
   "source": [
    "The Matplotlib subplot() function is defined as to plot two or more plots in one figure. We can use this method to separate two graphs which plotted in the same axis Matplotlib supports all kinds of subplots, including 2x1 vertical, 2x1 horizontal, or a 2x2 grid."
   ]
  },
  {
   "cell_type": "markdown",
   "id": "elder-daughter",
   "metadata": {},
   "source": [
    "It accepts the three arguments: they are nrows, ncols, and index. It denote the number of rows, number of columns and the index."
   ]
  },
  {
   "cell_type": "markdown",
   "id": "cooperative-performance",
   "metadata": {},
   "source": [
    "The subplot() function can be called in the following way:"
   ]
  },
  {
   "cell_type": "markdown",
   "id": "athletic-figure",
   "metadata": {},
   "source": [
    "subplot(nrows,ncols,index,**kwargs)  \n",
    "subplot(pos,**kwargs)     \n",
    "subplot(ax)  "
   ]
  },
  {
   "cell_type": "markdown",
   "id": "elementary-watershed",
   "metadata": {},
   "source": [
    "## Parameters:\n",
    "\n",
    "# *args:\n",
    "Three separate integers or three-digit integer describes the position of the subplot. If the three integers are nrows, ncols, and index in order, the subplot will take the index position on a grid with nrows row and ncol column.\n",
    "\n",
    "The argument pos are a three-digit integer, where the first digit is denoted the number of rows, the second digit denoted the number of columns, and the third represents the index of the subplot. For example, subplot (1, 3, 2) is the same as the subplot (132)."
   ]
  },
  {
   "cell_type": "markdown",
   "id": "related-firewall",
   "metadata": {},
   "source": [
    "## Note: Passed integer must be less than 10."
   ]
  },
  {
   "cell_type": "markdown",
   "id": "geological-emergency",
   "metadata": {},
   "source": [
    "**kwargs"
   ]
  },
  {
   "cell_type": "markdown",
   "id": "metric-bangladesh",
   "metadata": {},
   "source": [
    "The subplot() function also accepts the keyword arguments for the returned axes base class."
   ]
  },
  {
   "cell_type": "markdown",
   "id": "positive-dream",
   "metadata": {},
   "source": [
    "Consider the following example:"
   ]
  },
  {
   "cell_type": "markdown",
   "id": "regulated-little",
   "metadata": {},
   "source": [
    "Creating different types of graph"
   ]
  },
  {
   "cell_type": "markdown",
   "id": "inside-assault",
   "metadata": {},
   "source": [
    "1. Line graph\n",
    "\n",
    "The line graph is one of charts which shows information as a series of the line. The graph is plotted by the plot() function. The line graph is simple to plot; let's consider the following example:"
   ]
  },
  {
   "cell_type": "code",
   "execution_count": 1,
   "id": "persistent-origin",
   "metadata": {},
   "outputs": [
    {
     "data": {
      "image/png": "[encoded data removed]",
      "text/plain": [
       "<Figure size 432x288 with 1 Axes>"
      ]
     },
     "metadata": {
      "needs_background": "light"
     },
     "output_type": "display_data"
    }
   ],
   "source": [
    "from matplotlib import pyplot as plt  \n",
    "  \n",
    "x = [4,8,9]  \n",
    "y = [10,12,15]  \n",
    "  \n",
    "plt.plot(x,y)  \n",
    "  \n",
    "plt.title(\"Line graph\")  \n",
    "plt.ylabel('Y axis')  \n",
    "plt.xlabel('X axis')  \n",
    "plt.show()  "
   ]
  },
  {
   "cell_type": "markdown",
   "id": "corrected-vinyl",
   "metadata": {},
   "source": [
    "We can customize the graph by importing the style module. The style module will be built into a matplotlib installation. It contains the various functions to make the plot more attractive. In the below program, we are using the style module:"
   ]
  },
  {
   "cell_type": "code",
   "execution_count": 2,
   "id": "consecutive-business",
   "metadata": {},
   "outputs": [
    {
     "name": "stderr",
     "output_type": "stream",
     "text": [
      "No handles with labels found to put in legend.\n"
     ]
    },
    {
     "data": {
      "image/png": "[encoded data removed]",
      "text/plain": [
       "<Figure size 432x288 with 1 Axes>"
      ]
     },
     "metadata": {},
     "output_type": "display_data"
    },
    {
     "data": {
      "image/png": "[encoded data removed]",
      "text/plain": [
       "<Figure size 432x288 with 1 Axes>"
      ]
     },
     "metadata": {},
     "output_type": "display_data"
    }
   ],
   "source": [
    "from matplotlib import pyplot as plt  \n",
    "from matplotlib import style  \n",
    "  \n",
    "style.use('ggplot')  \n",
    "x = [16, 8, 10]  \n",
    "y = [8, 16, 6]  \n",
    "x2 = [8, 15, 11]  \n",
    "y2 = [6, 15, 7]  \n",
    "plt.plot(x, y, 'r', label='line one', linewidth=5)  \n",
    "plt.plot(x2, y2, 'm', label='line two', linewidth=5)  \n",
    "plt.title('Epic Info')  \n",
    "fig = plt.figure()  \n",
    "plt.ylabel('Y axis')  \n",
    "plt.xlabel('X axis')  \n",
    "plt.legend()  \n",
    "plt.grid(True, color='k')  \n",
    "plt.show()  "
   ]
  },
  {
   "cell_type": "code",
   "execution_count": null,
   "id": "august-short",
   "metadata": {},
   "outputs": [],
   "source": []
  }
 ],
 "metadata": {
  "kernelspec": {
   "display_name": "Python 3",
   "language": "python",
   "name": "python3"
  },
  "language_info": {
   "codemirror_mode": {
    "name": "ipython",
    "version": 3
   },
   "file_extension": ".py",
   "mimetype": "text/x-python",
   "name": "python",
   "nbconvert_exporter": "python",
   "pygments_lexer": "ipython3",
   "version": "3.8.6"
  }
 },
 "nbformat": 4,
 "nbformat_minor": 5
}
