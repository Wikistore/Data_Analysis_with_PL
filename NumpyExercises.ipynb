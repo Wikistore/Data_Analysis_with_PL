{
 "cells": [
  {
   "cell_type": "markdown",
   "id": "institutional-colonial",
   "metadata": {},
   "source": [
    " 1. Import numpy as np and see the version\n"
   ]
  },
  {
   "cell_type": "code",
   "execution_count": 1,
   "id": "incredible-republican",
   "metadata": {},
   "outputs": [
    {
     "name": "stdout",
     "output_type": "stream",
     "text": [
      "1.19.4\n"
     ]
    }
   ],
   "source": [
    "import numpy as np\n",
    "print(np.__version__)\n",
    "#> 1.13.3"
   ]
  },
  {
   "cell_type": "markdown",
   "id": "hazardous-fabric",
   "metadata": {},
   "source": [
    "2. How to create a 1D array?"
   ]
  },
  {
   "cell_type": "code",
   "execution_count": 2,
   "id": "raised-contractor",
   "metadata": {},
   "outputs": [
    {
     "data": {
      "text/plain": [
       "array([0, 1, 2, 3, 4, 5, 6, 7, 8, 9])"
      ]
     },
     "execution_count": 2,
     "metadata": {},
     "output_type": "execute_result"
    }
   ],
   "source": [
    "arr = np.arange(10)\n",
    "arr\n",
    "#> array([0, 1, 2, 3, 4, 5, 6, 7, 8, 9])"
   ]
  },
  {
   "cell_type": "markdown",
   "id": "interim-template",
   "metadata": {},
   "source": [
    "3. How to create a boolean array?"
   ]
  },
  {
   "cell_type": "code",
   "execution_count": 7,
   "id": "descending-absolute",
   "metadata": {},
   "outputs": [
    {
     "data": {
      "text/plain": [
       "array([[ True,  True,  True],\n",
       "       [ True,  True,  True],\n",
       "       [ True,  True,  True]])"
      ]
     },
     "execution_count": 7,
     "metadata": {},
     "output_type": "execute_result"
    }
   ],
   "source": [
    "np.full((3, 3), True, dtype=bool)\n",
    "#> array([[ True,  True,  True],\n",
    "#>        [ True,  True,  True],\n",
    "#>        [ True,  True,  True]], dtype=bool)\n",
    "\n",
    "# Alternate method:\n",
    "np.ones((3,3), dtype=bool)"
   ]
  },
  {
   "cell_type": "markdown",
   "id": "active-tucson",
   "metadata": {},
   "source": [
    "4. How to extract items that satisfy a given condition from 1D array?"
   ]
  },
  {
   "cell_type": "code",
   "execution_count": 5,
   "id": "british-privilege",
   "metadata": {},
   "outputs": [
    {
     "data": {
      "text/plain": [
       "array([1, 3, 5, 7, 9])"
      ]
     },
     "execution_count": 5,
     "metadata": {},
     "output_type": "execute_result"
    }
   ],
   "source": [
    "# Input\n",
    "arr = np.array([0, 1, 2, 3, 4, 5, 6, 7, 8, 9])\n",
    "\n",
    "# Solution\n",
    "arr[arr % 2 == 1]\n",
    "#> array([1, 3, 5, 7, 9])"
   ]
  },
  {
   "cell_type": "markdown",
   "id": "authorized-center",
   "metadata": {},
   "source": [
    "5. How to replace items that satisfy a condition with another value in numpy array?"
   ]
  },
  {
   "cell_type": "code",
   "execution_count": 6,
   "id": "liberal-syndicate",
   "metadata": {},
   "outputs": [
    {
     "data": {
      "text/plain": [
       "array([ 0, -1,  2, -1,  4, -1,  6, -1,  8, -1])"
      ]
     },
     "execution_count": 6,
     "metadata": {},
     "output_type": "execute_result"
    }
   ],
   "source": [
    "arr[arr % 2 == 1] = -1\n",
    "arr\n",
    "#> array([ 0, -1,  2, -1,  4, -1,  6, -1,  8, -1])"
   ]
  },
  {
   "cell_type": "markdown",
   "id": "going-astrology",
   "metadata": {},
   "source": [
    "6. How to reshape an array?"
   ]
  },
  {
   "cell_type": "code",
   "execution_count": 10,
   "id": "broken-withdrawal",
   "metadata": {},
   "outputs": [
    {
     "data": {
      "text/plain": [
       "array([[0, 1, 2, 3, 4],\n",
       "       [5, 6, 7, 8, 9]])"
      ]
     },
     "execution_count": 10,
     "metadata": {},
     "output_type": "execute_result"
    }
   ],
   "source": [
    "arr = np.arange(10)\n",
    "arr.reshape(2, -1)  # Setting to -1 automatically decides the number of cols\n",
    "#> array([[0, 1, 2, 3, 4],\n",
    "#>        [5, 6, 7, 8, 9]])"
   ]
  },
  {
   "cell_type": "markdown",
   "id": "saving-observer",
   "metadata": {},
   "source": [
    " 7. How to stack two arrays vertically?"
   ]
  },
  {
   "cell_type": "code",
   "execution_count": 11,
   "id": "cleared-magazine",
   "metadata": {},
   "outputs": [
    {
     "data": {
      "text/plain": [
       "array([[0, 1, 2, 3, 4],\n",
       "       [5, 6, 7, 8, 9],\n",
       "       [1, 1, 1, 1, 1],\n",
       "       [1, 1, 1, 1, 1]])"
      ]
     },
     "execution_count": 11,
     "metadata": {},
     "output_type": "execute_result"
    }
   ],
   "source": [
    "a = np.arange(10).reshape(2,-1)\n",
    "b = np.repeat(1, 10).reshape(2,-1)\n",
    "\n",
    "# Answers\n",
    "# Method 1:\n",
    "np.concatenate([a, b], axis=0)\n",
    "\n",
    "# Method 2:\n",
    "np.vstack([a, b])\n",
    "\n",
    "# Method 3:\n",
    "np.r_[a, b]\n",
    "#> array([[0, 1, 2, 3, 4],\n",
    "#>        [5, 6, 7, 8, 9],\n",
    "#>        [1, 1, 1, 1, 1],\n",
    "#>        [1, 1, 1, 1, 1]])"
   ]
  },
  {
   "cell_type": "markdown",
   "id": "attractive-recycling",
   "metadata": {},
   "source": [
    "8. How to stack two arrays horizontally?"
   ]
  },
  {
   "cell_type": "code",
   "execution_count": 12,
   "id": "soviet-winner",
   "metadata": {},
   "outputs": [
    {
     "data": {
      "text/plain": [
       "array([[0, 1, 2, 3, 4, 1, 1, 1, 1, 1],\n",
       "       [5, 6, 7, 8, 9, 1, 1, 1, 1, 1]])"
      ]
     },
     "execution_count": 12,
     "metadata": {},
     "output_type": "execute_result"
    }
   ],
   "source": [
    "a = np.arange(10).reshape(2,-1)\n",
    "b = np.repeat(1, 10).reshape(2,-1)\n",
    "\n",
    "# Answers\n",
    "# Method 1:\n",
    "np.concatenate([a, b], axis=1)\n",
    "\n",
    "# Method 2:\n",
    "np.hstack([a, b])\n",
    "\n",
    "# Method 3:\n",
    "np.c_[a, b]\n",
    "#> array([[0, 1, 2, 3, 4, 1, 1, 1, 1, 1],\n",
    "#>        [5, 6, 7, 8, 9, 1, 1, 1, 1, 1]])"
   ]
  },
  {
   "cell_type": "markdown",
   "id": "productive-distinction",
   "metadata": {},
   "source": [
    "9.How to get the common items between two python numpy arrays?"
   ]
  },
  {
   "cell_type": "code",
   "execution_count": 15,
   "id": "functional-facing",
   "metadata": {},
   "outputs": [
    {
     "data": {
      "text/plain": [
       "array([2, 4])"
      ]
     },
     "execution_count": 15,
     "metadata": {},
     "output_type": "execute_result"
    }
   ],
   "source": [
    "a = np.array([1,2,3,2,3,4,3,4,5,6])\n",
    "b = np.array([7,2,10,2,7,4,9,4,9,8])\n",
    "np.intersect1d(a,b)\n",
    "#> array([2, 4])"
   ]
  },
  {
   "cell_type": "markdown",
   "id": "intermediate-mexican",
   "metadata": {},
   "source": [
    "10. How to remove from one array those items that exist in another?"
   ]
  },
  {
   "cell_type": "code",
   "execution_count": 16,
   "id": "higher-warrant",
   "metadata": {},
   "outputs": [
    {
     "data": {
      "text/plain": [
       "array([1, 2, 3, 4])"
      ]
     },
     "execution_count": 16,
     "metadata": {},
     "output_type": "execute_result"
    }
   ],
   "source": [
    "a = np.array([1,2,3,4,5])\n",
    "b = np.array([5,6,7,8,9])\n",
    "\n",
    "# From 'a' remove all of 'b'\n",
    "np.setdiff1d(a,b)\n",
    "#> array([1, 2, 3, 4])"
   ]
  },
  {
   "cell_type": "markdown",
   "id": "anonymous-spectacular",
   "metadata": {},
   "source": [
    "11. How to get the positions where elements of two arrays match?"
   ]
  },
  {
   "cell_type": "code",
   "execution_count": 18,
   "id": "embedded-former",
   "metadata": {},
   "outputs": [
    {
     "data": {
      "text/plain": [
       "(array([1, 3, 5, 7], dtype=int32),)"
      ]
     },
     "execution_count": 18,
     "metadata": {},
     "output_type": "execute_result"
    }
   ],
   "source": [
    "a = np.array([1,2,3,2,3,4,3,4,5,6])\n",
    "b = np.array([7,2,10,2,7,4,9,4,9,8])\n",
    "\n",
    "np.where(a == b)\n",
    "#> (array([1, 3, 5, 7]),)"
   ]
  },
  {
   "cell_type": "markdown",
   "id": "graphic-literature",
   "metadata": {},
   "source": [
    "12. How to extract all numbers between a given range from a numpy array?"
   ]
  },
  {
   "cell_type": "code",
   "execution_count": 20,
   "id": "thrown-syndicate",
   "metadata": {},
   "outputs": [
    {
     "data": {
      "text/plain": [
       "array([ 5,  6,  7,  8,  9, 10])"
      ]
     },
     "execution_count": 20,
     "metadata": {},
     "output_type": "execute_result"
    }
   ],
   "source": [
    "a = np.arange(15)\n",
    "\n",
    "# Method 1\n",
    "index = np.where((a >= 5) & (a <= 10))\n",
    "a[index]\n",
    "\n",
    "# Method 2:\n",
    "index = np.where(np.logical_and(a>=5, a<=10))\n",
    "a[index]\n",
    "#> (array([6, 9, 10]),)\n",
    "\n",
    "# Method 3: (thanks loganzk!)\n",
    "a[(a >= 5) & (a <= 10)]"
   ]
  },
  {
   "cell_type": "raw",
   "id": "distributed-beaver",
   "metadata": {},
   "source": [
    "13. How to make a python function that handles scalars to work on numpy arrays?"
   ]
  },
  {
   "cell_type": "code",
   "execution_count": 21,
   "id": "preliminary-marketplace",
   "metadata": {},
   "outputs": [
    {
     "data": {
      "text/plain": [
       "array([6., 7., 9., 8., 9., 7., 5.])"
      ]
     },
     "execution_count": 21,
     "metadata": {},
     "output_type": "execute_result"
    }
   ],
   "source": [
    "def maxx(x, y):\n",
    "    \"\"\"Get the maximum of two items\"\"\"\n",
    "    if x >= y:\n",
    "        return x\n",
    "    else:\n",
    "        return y\n",
    "\n",
    "pair_max = np.vectorize(maxx, otypes=[float])\n",
    "\n",
    "a = np.array([5, 7, 9, 8, 6, 4, 5])\n",
    "b = np.array([6, 3, 4, 8, 9, 7, 1])\n",
    "\n",
    "pair_max(a, b)\n",
    "#> array([ 6.,  7.,  9.,  8.,  9.,  7.,  5.])"
   ]
  },
  {
   "cell_type": "markdown",
   "id": "light-calibration",
   "metadata": {},
   "source": [
    "14. How to swap two columns in a 2d numpy array?"
   ]
  },
  {
   "cell_type": "code",
   "execution_count": 22,
   "id": "mediterranean-sample",
   "metadata": {},
   "outputs": [
    {
     "data": {
      "text/plain": [
       "array([[1, 0, 2],\n",
       "       [4, 3, 5],\n",
       "       [7, 6, 8]])"
      ]
     },
     "execution_count": 22,
     "metadata": {},
     "output_type": "execute_result"
    }
   ],
   "source": [
    "# Input\n",
    "arr = np.arange(9).reshape(3,3)\n",
    "arr\n",
    "\n",
    "# Solution\n",
    "arr[:, [1,0,2]]\n",
    "#> array([[1, 0, 2],\n",
    "#>        [4, 3, 5],\n",
    "#>        [7, 6, 8]])"
   ]
  },
  {
   "cell_type": "markdown",
   "id": "baking-student",
   "metadata": {},
   "source": [
    "15. How to swap two rows in a 2d numpy array?"
   ]
  },
  {
   "cell_type": "code",
   "execution_count": 23,
   "id": "underlying-season",
   "metadata": {},
   "outputs": [
    {
     "data": {
      "text/plain": [
       "array([[3, 4, 5],\n",
       "       [0, 1, 2],\n",
       "       [6, 7, 8]])"
      ]
     },
     "execution_count": 23,
     "metadata": {},
     "output_type": "execute_result"
    }
   ],
   "source": [
    "# Input\n",
    "arr = np.arange(9).reshape(3,3)\n",
    "\n",
    "# Solution\n",
    "arr[[1,0,2], :]\n",
    "#> array([[3, 4, 5],\n",
    "#>        [0, 1, 2],\n",
    "#>        [6, 7, 8]])"
   ]
  },
  {
   "cell_type": "markdown",
   "id": "prepared-subdivision",
   "metadata": {},
   "source": [
    "16. How to create a 2D array containing random floats between 5 and 10?"
   ]
  },
  {
   "cell_type": "code",
   "execution_count": 25,
   "id": "complicated-restaurant",
   "metadata": {},
   "outputs": [
    {
     "name": "stdout",
     "output_type": "stream",
     "text": [
      "[[9.21134263 9.41073292 7.03488933]\n",
      " [7.31607427 6.27103849 9.86794191]\n",
      " [5.9116129  6.00785449 6.73121796]\n",
      " [6.7547323  7.06578177 8.43490727]\n",
      " [7.80407344 9.29536945 6.15782364]]\n"
     ]
    }
   ],
   "source": [
    "# Input\n",
    "arr = np.arange(9).reshape(3,3)\n",
    "\n",
    "# Solution Method 1:\n",
    "rand_arr = np.random.randint(low=5, high=10, size=(5,3)) + np.random.random((5,3))\n",
    "# print(rand_arr)\n",
    "\n",
    "# Solution Method 2:\n",
    "rand_arr = np.random.uniform(5,10, size=(5,3))\n",
    "print(rand_arr)\n",
    "#> [[ 8.50061025  9.10531502  6.85867783]\n",
    "#>  [ 9.76262069  9.87717411  7.13466701]\n",
    "#>  [ 7.48966403  8.33409158  6.16808631]\n",
    "#>  [ 7.75010551  9.94535696  5.27373226]\n",
    "#>  [ 8.0850361   5.56165518  7.31244004]]"
   ]
  },
  {
   "cell_type": "markdown",
   "id": "dress-tulsa",
   "metadata": {},
   "source": [
    "17. How to print only 3 decimal places in python numpy array?"
   ]
  },
  {
   "cell_type": "code",
   "execution_count": 26,
   "id": "embedded-marking",
   "metadata": {},
   "outputs": [
    {
     "data": {
      "text/plain": [
       "array([[0.221, 0.279, 0.26 ],\n",
       "       [0.433, 0.24 , 0.582],\n",
       "       [0.37 , 0.556, 0.726],\n",
       "       [0.779, 0.797, 0.216]])"
      ]
     },
     "execution_count": 26,
     "metadata": {},
     "output_type": "execute_result"
    }
   ],
   "source": [
    "# Input\n",
    "rand_arr = np.random.random((5,3))\n",
    "\n",
    "# Create the random array\n",
    "rand_arr = np.random.random([5,3])\n",
    "\n",
    "# Limit to 3 decimal places\n",
    "np.set_printoptions(precision=3)\n",
    "rand_arr[:4]\n",
    "#> array([[ 0.443,  0.109,  0.97 ],\n",
    "#>        [ 0.388,  0.447,  0.191],\n",
    "#>        [ 0.891,  0.474,  0.212],\n",
    "#>        [ 0.609,  0.518,  0.403]])"
   ]
  },
  {
   "cell_type": "markdown",
   "id": "funky-montreal",
   "metadata": {},
   "source": [
    "18. How to limit the number of items printed in output of numpy array?"
   ]
  },
  {
   "cell_type": "code",
   "execution_count": 29,
   "id": "worth-wound",
   "metadata": {},
   "outputs": [
    {
     "data": {
      "text/plain": [
       "array([ 0,  1,  2, ..., 12, 13, 14])"
      ]
     },
     "execution_count": 29,
     "metadata": {},
     "output_type": "execute_result"
    }
   ],
   "source": [
    "np.set_printoptions(threshold=6)\n",
    "a = np.arange(15)\n",
    "a\n",
    "#> array([ 0,  1,  2, ..., 12, 13, 14])"
   ]
  },
  {
   "cell_type": "markdown",
   "id": "joint-system",
   "metadata": {},
   "source": [
    "19.How to replace all values greater than a given value to a given cutoff?"
   ]
  },
  {
   "cell_type": "code",
   "execution_count": 32,
   "id": "handy-portuguese",
   "metadata": {},
   "outputs": [
    {
     "name": "stdout",
     "output_type": "stream",
     "text": [
      "[27.63 14.64 21.8  ... 10.   30.   14.43]\n"
     ]
    }
   ],
   "source": [
    "# Input\n",
    "np.set_printoptions(precision=2)\n",
    "np.random.seed(100)\n",
    "a = np.random.uniform(1,50, 20)\n",
    "\n",
    "# Solution 1: Using np.clip\n",
    "np.clip(a, a_min=10, a_max=30)\n",
    "\n",
    "# Solution 2: Using np.where\n",
    "print(np.where(a < 10, 10, np.where(a > 30, 30, a)))\n",
    "#> [ 27.63  14.64  21.8   30.    10.    10.    30.    30.    10.    29.18  30.\n",
    "#>   11.25  10.08  10.    11.77  30.    30.    10.    30.    14.43]"
   ]
  },
  {
   "cell_type": "markdown",
   "id": "latter-compiler",
   "metadata": {},
   "source": [
    "20.  How to get the positions of top n values from a numpy array?"
   ]
  },
  {
   "cell_type": "code",
   "execution_count": 33,
   "id": "mounted-intermediate",
   "metadata": {},
   "outputs": [
    {
     "name": "stdout",
     "output_type": "stream",
     "text": [
      "[ 4 13  5 ...  3 10 15]\n"
     ]
    },
    {
     "data": {
      "text/plain": [
       "array([48.95, 44.67, 42.39, 41.47, 41.  ])"
      ]
     },
     "execution_count": 33,
     "metadata": {},
     "output_type": "execute_result"
    }
   ],
   "source": [
    "# Input\n",
    "np.random.seed(100)\n",
    "a = np.random.uniform(1,50, 20)\n",
    "\n",
    "# Solution:\n",
    "print(a.argsort())\n",
    "#> [18 7 3 10 15]\n",
    "\n",
    "# Solution 2:\n",
    "np.argpartition(-a, 5)[:5]\n",
    "#> [15 10  3  7 18]\n",
    "\n",
    "# Below methods will get you the values.\n",
    "# Method 1:\n",
    "a[a.argsort()][-5:]\n",
    "\n",
    "# Method 2:\n",
    "np.sort(a)[-5:]\n",
    "\n",
    "# Method 3:\n",
    "np.partition(a, kth=-5)[-5:]\n",
    "\n",
    "# Method 4:\n",
    "a[np.argpartition(-a, 5)][:5]"
   ]
  },
  {
   "cell_type": "markdown",
   "id": "norwegian-impression",
   "metadata": {},
   "source": [
    "21. How to compute the row wise counts of all possible values in an array?"
   ]
  },
  {
   "cell_type": "code",
   "execution_count": 34,
   "id": "sustained-valentine",
   "metadata": {},
   "outputs": [
    {
     "name": "stdout",
     "output_type": "stream",
     "text": [
      "[ 1  2  3 ...  8  9 10]\n"
     ]
    },
    {
     "data": {
      "text/plain": [
       "[[1, 0, 2, 1, 1, 1, 0, 2, 2, 0],\n",
       " [2, 1, 3, 0, 1, 0, 1, 0, 1, 1],\n",
       " [0, 3, 0, 2, 3, 1, 0, 1, 0, 0],\n",
       " [1, 0, 2, 1, 0, 1, 0, 2, 1, 2],\n",
       " [2, 2, 2, 0, 0, 1, 1, 1, 1, 0],\n",
       " [1, 1, 1, 1, 1, 2, 0, 0, 2, 1]]"
      ]
     },
     "execution_count": 34,
     "metadata": {},
     "output_type": "execute_result"
    }
   ],
   "source": [
    "# Input:\n",
    "np.random.seed(100)\n",
    "arr = np.random.randint(1,11,size=(6, 10))\n",
    "arr\n",
    "#> array([[ 9,  9,  4,  8,  8,  1,  5,  3,  6,  3],\n",
    "#>        [ 3,  3,  2,  1,  9,  5,  1, 10,  7,  3],\n",
    "#>        [ 5,  2,  6,  4,  5,  5,  4,  8,  2,  2],\n",
    "#>        [ 8,  8,  1,  3, 10, 10,  4,  3,  6,  9],\n",
    "#>        [ 2,  1,  8,  7,  3,  1,  9,  3,  6,  2],\n",
    "#>        [ 9,  2,  6,  5,  3,  9,  4,  6,  1, 10]])\n",
    "# Solution\n",
    "def counts_of_all_values_rowwise(arr2d):\n",
    "    # Unique values and its counts row wise\n",
    "    num_counts_array = [np.unique(row, return_counts=True) for row in arr2d]\n",
    "\n",
    "    # Counts of all values row wise\n",
    "    return([[int(b[a==i]) if i in a else 0 for i in np.unique(arr2d)] for a, b in num_counts_array])\n",
    "\n",
    "# Print\n",
    "print(np.arange(1,11))\n",
    "counts_of_all_values_rowwise(arr)\n",
    "#> [ 1  2  3  4  5  6  7  8  9 10]\n",
    "\n",
    "#> [[1, 0, 2, 1, 1, 1, 0, 2, 2, 0],\n",
    "#>  [2, 1, 3, 0, 1, 0, 1, 0, 1, 1],\n",
    "#>  [0, 3, 0, 2, 3, 1, 0, 1, 0, 0],\n",
    "#>  [1, 0, 2, 1, 0, 1, 0, 2, 1, 2],\n",
    "#>  [2, 2, 2, 0, 0, 1, 1, 1, 1, 0],\n",
    "#>  [1, 1, 1, 1, 1, 2, 0, 0, 2, 1]]"
   ]
  },
  {
   "cell_type": "markdown",
   "id": "adjustable-power",
   "metadata": {},
   "source": [
    "22.  How to generate one-hot encodings for an array in numpy?"
   ]
  },
  {
   "cell_type": "code",
   "execution_count": 36,
   "id": "scientific-swedish",
   "metadata": {},
   "outputs": [
    {
     "data": {
      "text/plain": [
       "array([[0, 1, 0],\n",
       "       [0, 0, 1],\n",
       "       [0, 1, 0],\n",
       "       [0, 1, 0],\n",
       "       [0, 1, 0],\n",
       "       [1, 0, 0]], dtype=int8)"
      ]
     },
     "execution_count": 36,
     "metadata": {},
     "output_type": "execute_result"
    }
   ],
   "source": [
    "# Input:\n",
    "np.random.seed(101) \n",
    "arr = np.random.randint(1,4, size=6)\n",
    "arr\n",
    "#> array([2, 3, 2, 2, 2, 1])\n",
    "\n",
    "# Solution:\n",
    "def one_hot_encodings(arr):\n",
    "    uniqs = np.unique(arr)\n",
    "    out = np.zeros((arr.shape[0], uniqs.shape[0]))\n",
    "    for i, k in enumerate(arr):\n",
    "        out[i, k-1] = 1\n",
    "    return out\n",
    "\n",
    "one_hot_encodings(arr)\n",
    "#> array([[ 0.,  1.,  0.],\n",
    "#>        [ 0.,  0.,  1.],\n",
    "#>        [ 0.,  1.,  0.],\n",
    "#>        [ 0.,  1.,  0.],\n",
    "#>        [ 0.,  1.,  0.],\n",
    "#>        [ 1.,  0.,  0.]])\n",
    "\n",
    "# Method 2:\n",
    "(arr[:, None] == np.unique(arr)).view(np.int8)"
   ]
  },
  {
   "cell_type": "markdown",
   "id": "smooth-association",
   "metadata": {},
   "source": [
    "23. How to rank items in a multidimensional array using numpy?"
   ]
  },
  {
   "cell_type": "code",
   "execution_count": 37,
   "id": "placed-lindsay",
   "metadata": {},
   "outputs": [
    {
     "name": "stdout",
     "output_type": "stream",
     "text": [
      "[[ 9  4 15  0 17]\n",
      " [16 17  8  9  0]]\n",
      "[[4 2 6 0 8]\n",
      " [7 9 3 5 1]]\n"
     ]
    }
   ],
   "source": [
    "# Input:\n",
    "np.random.seed(10)\n",
    "a = np.random.randint(20, size=[2,5])\n",
    "print(a)\n",
    "\n",
    "# Solution\n",
    "print(a.ravel().argsort().argsort().reshape(a.shape))\n",
    "#> [[ 9  4 15  0 17]\n",
    "#>  [16 17  8  9  0]]\n",
    "#> [[4 2 6 0 8]\n",
    "#>  [7 9 3 5 1]]"
   ]
  },
  {
   "cell_type": "markdown",
   "id": "frequent-running",
   "metadata": {},
   "source": [
    "24. How to compute the min-by-max for each row for a numpy array 2d?"
   ]
  },
  {
   "cell_type": "code",
   "execution_count": 38,
   "id": "frequent-turning",
   "metadata": {},
   "outputs": [
    {
     "data": {
      "text/plain": [
       "array([0.44, 0.12, 0.5 , 1.  , 0.11])"
      ]
     },
     "execution_count": 38,
     "metadata": {},
     "output_type": "execute_result"
    }
   ],
   "source": [
    "# Input\n",
    "np.random.seed(100)\n",
    "a = np.random.randint(1,10, [5,3])\n",
    "a\n",
    "\n",
    "# Solution\n",
    "np.apply_along_axis(lambda x: np.min(x)/np.max(x), arr=a, axis=1)\n",
    "#> array([ 0.44444444,  0.125     ,  0.5       ,  1.        ,  0.11111111])"
   ]
  },
  {
   "cell_type": "markdown",
   "id": "cubic-eating",
   "metadata": {},
   "source": [
    "25. How to find the duplicate records in a numpy array?"
   ]
  },
  {
   "cell_type": "code",
   "execution_count": 39,
   "id": "sonic-motion",
   "metadata": {},
   "outputs": [
    {
     "name": "stdout",
     "output_type": "stream",
     "text": [
      "[False  True False ...  True  True  True]\n"
     ]
    }
   ],
   "source": [
    "# Input\n",
    "np.random.seed(100)\n",
    "a = np.random.randint(0, 5, 10)\n",
    "\n",
    "## Solution\n",
    "# There is no direct function to do this as of 1.13.3\n",
    "\n",
    "# Create an all True array\n",
    "out = np.full(a.shape[0], True)\n",
    "\n",
    "# Find the index positions of unique elements\n",
    "unique_positions = np.unique(a, return_index=True)[1]\n",
    "\n",
    "# Mark those positions as False\n",
    "out[unique_positions] = False\n",
    "\n",
    "print(out)\n",
    "#> [False  True False  True False False  True  True  True  True]"
   ]
  },
  {
   "cell_type": "markdown",
   "id": "detected-pencil",
   "metadata": {},
   "source": [
    "26. How to drop all missing values from a numpy array?"
   ]
  },
  {
   "cell_type": "code",
   "execution_count": 41,
   "id": "spread-overhead",
   "metadata": {},
   "outputs": [
    {
     "data": {
      "text/plain": [
       "array([1., 2., 3., 5., 6., 7.])"
      ]
     },
     "execution_count": 41,
     "metadata": {},
     "output_type": "execute_result"
    }
   ],
   "source": [
    "a = np.array([1,2,3,np.nan,5,6,7,np.nan])\n",
    "a[~np.isnan(a)]\n",
    "#> array([ 1.,  2.,  3.,  5.,  6.,  7.])"
   ]
  },
  {
   "cell_type": "markdown",
   "id": "guilty-steal",
   "metadata": {},
   "source": [
    "27. How to compute the euclidean distance between two arrays?\n"
   ]
  },
  {
   "cell_type": "code",
   "execution_count": 42,
   "id": "aboriginal-reflection",
   "metadata": {},
   "outputs": [
    {
     "data": {
      "text/plain": [
       "6.708203932499369"
      ]
     },
     "execution_count": 42,
     "metadata": {},
     "output_type": "execute_result"
    }
   ],
   "source": [
    "# Input\n",
    "a = np.array([1,2,3,4,5])\n",
    "b = np.array([4,5,6,7,8])\n",
    "\n",
    "# Solution\n",
    "dist = np.linalg.norm(a-b)\n",
    "dist\n",
    "#> 6.7082039324993694"
   ]
  },
  {
   "cell_type": "markdown",
   "id": "portuguese-voltage",
   "metadata": {},
   "source": [
    "28. How to subtract a 1d array from a 2d array, where each item of 1d array subtracts from respective row?"
   ]
  },
  {
   "cell_type": "code",
   "execution_count": 43,
   "id": "numerical-reunion",
   "metadata": {},
   "outputs": [
    {
     "name": "stdout",
     "output_type": "stream",
     "text": [
      "[[2 2 2]\n",
      " [2 2 2]\n",
      " [2 2 2]]\n"
     ]
    }
   ],
   "source": [
    "# Input\n",
    "a_2d = np.array([[3,3,3],[4,4,4],[5,5,5]])\n",
    "b_1d = np.array([1,2,3])\n",
    "\n",
    "# Solution\n",
    "print(a_2d - b_1d[:,None])\n",
    "#> [[2 2 2]\n",
    "#>  [2 2 2]\n",
    "#>  [2 2 2]]"
   ]
  },
  {
   "cell_type": "markdown",
   "id": "applied-courtesy",
   "metadata": {},
   "source": [
    "29. How to find the index of n'th repetition of an item in an array\n"
   ]
  },
  {
   "cell_type": "code",
   "execution_count": 44,
   "id": "capable-classics",
   "metadata": {},
   "outputs": [
    {
     "data": {
      "text/plain": [
       "8"
      ]
     },
     "execution_count": 44,
     "metadata": {},
     "output_type": "execute_result"
    }
   ],
   "source": [
    "x = np.array([1, 2, 1, 1, 3, 4, 3, 1, 1, 2, 1, 1, 2])\n",
    "n = 5\n",
    "\n",
    "# Solution 1: List comprehension\n",
    "[i for i, v in enumerate(x) if v == 1][n-1]\n",
    "\n",
    "# Solution 2: Numpy version\n",
    "np.where(x == 1)[0][n-1]\n",
    "#> 8"
   ]
  },
  {
   "cell_type": "markdown",
   "id": "certain-metropolitan",
   "metadata": {},
   "source": [
    "30. How to convert numpy's datetime64 object to datetime's datetime object?"
   ]
  },
  {
   "cell_type": "code",
   "execution_count": 45,
   "id": "minor-rings",
   "metadata": {},
   "outputs": [
    {
     "data": {
      "text/plain": [
       "datetime.datetime(2018, 2, 25, 22, 10, 10)"
      ]
     },
     "execution_count": 45,
     "metadata": {},
     "output_type": "execute_result"
    }
   ],
   "source": [
    "# Input: a numpy datetime64 object\n",
    "dt64 = np.datetime64('2018-02-25 22:10:10')\n",
    "\n",
    "# Solution\n",
    "from datetime import datetime\n",
    "dt64.tolist()\n",
    "\n",
    "# or\n",
    "\n",
    "dt64.astype(datetime)\n",
    "#> datetime.datetime(2018, 2, 25, 22, 10, 10)"
   ]
  },
  {
   "cell_type": "markdown",
   "id": "latest-humanitarian",
   "metadata": {},
   "source": [
    "31.How to fill in missing dates in an irregular series of numpy dates?"
   ]
  },
  {
   "cell_type": "code",
   "execution_count": 47,
   "id": "union-lecture",
   "metadata": {},
   "outputs": [
    {
     "name": "stdout",
     "output_type": "stream",
     "text": [
      "['2018-02-01' '2018-02-03' '2018-02-05' ... '2018-02-19' '2018-02-21'\n",
      " '2018-02-23']\n"
     ]
    },
    {
     "data": {
      "text/plain": [
       "array(['2018-02-01', '2018-02-02', '2018-02-03', ..., '2018-02-21',\n",
       "       '2018-02-22', '2018-02-23'], dtype='datetime64[D]')"
      ]
     },
     "execution_count": 47,
     "metadata": {},
     "output_type": "execute_result"
    }
   ],
   "source": [
    "# Input\n",
    "dates = np.arange(np.datetime64('2018-02-01'), np.datetime64('2018-02-25'), 2)\n",
    "print(dates)\n",
    "\n",
    "# Solution ---------------\n",
    "filled_in = np.array([np.arange(date, (date+d)) for date, d in zip(dates, np.diff(dates))]).reshape(-1)\n",
    "\n",
    "# add the last day\n",
    "output = np.hstack([filled_in, dates[-1]])\n",
    "output\n",
    "\n",
    "# For loop version -------\n",
    "out = []\n",
    "for date, d in zip(dates, np.diff(dates)):\n",
    "    out.append(np.arange(date, (date+d)))\n",
    "\n",
    "filled_in = np.array(out).reshape(-1)\n",
    "\n",
    "# add the last day\n",
    "output = np.hstack([filled_in, dates[-1]])\n",
    "output\n",
    "#> ['2018-02-01' '2018-02-03' '2018-02-05' '2018-02-07' '2018-02-09'\n",
    "#>  '2018-02-11' '2018-02-13' '2018-02-15' '2018-02-17' '2018-02-19'\n",
    "#>  '2018-02-21' '2018-02-23']\n",
    "\n",
    "#> array(['2018-02-01', '2018-02-02', '2018-02-03', '2018-02-04',\n",
    "#>        '2018-02-05', '2018-02-06', '2018-02-07', '2018-02-08',\n",
    "#>        '2018-02-09', '2018-02-10', '2018-02-11', '2018-02-12',\n",
    "#>        '2018-02-13', '2018-02-14', '2018-02-15', '2018-02-16',\n",
    "#>        '2018-02-17', '2018-02-18', '2018-02-19', '2018-02-20',\n",
    "#>        '2018-02-21', '2018-02-22', '2018-02-23'], dtype='datetime64[D]')"
   ]
  },
  {
   "cell_type": "markdown",
   "id": "moving-sport",
   "metadata": {},
   "source": [
    "32.How to create strides from a given 1D array?"
   ]
  },
  {
   "cell_type": "code",
   "execution_count": 49,
   "id": "protecting-penalty",
   "metadata": {},
   "outputs": [
    {
     "name": "stdout",
     "output_type": "stream",
     "text": [
      "[[ 0  1  2  3]\n",
      " [ 2  3  4  5]\n",
      " [ 4  5  6  7]\n",
      " [ 6  7  8  9]\n",
      " [ 8  9 10 11]\n",
      " [10 11 12 13]]\n"
     ]
    }
   ],
   "source": [
    "def gen_strides(a, stride_len=5, window_len=5):\n",
    "    n_strides = ((a.size-window_len)//stride_len) + 1\n",
    "    # return np.array([a[s:(s+window_len)] for s in np.arange(0, a.size, stride_len)[:n_strides]])\n",
    "    return np.array([a[s:(s+window_len)] for s in np.arange(0, n_strides*stride_len, stride_len)])\n",
    "\n",
    "print(gen_strides(np.arange(15), stride_len=2, window_len=4))\n",
    "#> [[ 0  1  2  3]\n",
    "#>  [ 2  3  4  5]\n",
    "#>  [ 4  5  6  7]\n",
    "#>  [ 6  7  8  9]\n",
    "#>  [ 8  9 10 11]\n",
    "#>  [10 11 12 13]]"
   ]
  }
 ],
 "metadata": {
  "kernelspec": {
   "display_name": "Python 3",
   "language": "python",
   "name": "python3"
  },
  "language_info": {
   "codemirror_mode": {
    "name": "ipython",
    "version": 3
   },
   "file_extension": ".py",
   "mimetype": "text/x-python",
   "name": "python",
   "nbconvert_exporter": "python",
   "pygments_lexer": "ipython3",
   "version": "3.8.6"
  }
 },
 "nbformat": 4,
 "nbformat_minor": 5
}
