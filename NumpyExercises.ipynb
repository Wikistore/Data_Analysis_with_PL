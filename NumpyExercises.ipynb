{
 "cells": [
  {
   "cell_type": "markdown",
   "id": "headed-vegetable",
   "metadata": {},
   "source": [
    " 1. Import numpy as np and see the version\n"
   ]
  },
  {
   "cell_type": "code",
   "execution_count": 1,
   "id": "institutional-administrator",
   "metadata": {},
   "outputs": [
    {
     "name": "stdout",
     "output_type": "stream",
     "text": [
      "1.19.4\n"
     ]
    }
   ],
   "source": [
    "import numpy as np\n",
    "print(np.__version__)\n",
    "#> 1.13.3"
   ]
  },
  {
   "cell_type": "markdown",
   "id": "whole-selling",
   "metadata": {},
   "source": [
    "2. How to create a 1D array?"
   ]
  },
  {
   "cell_type": "code",
   "execution_count": 2,
   "id": "german-protest",
   "metadata": {},
   "outputs": [
    {
     "data": {
      "text/plain": [
       "array([0, 1, 2, 3, 4, 5, 6, 7, 8, 9])"
      ]
     },
     "execution_count": 2,
     "metadata": {},
     "output_type": "execute_result"
    }
   ],
   "source": [
    "arr = np.arange(10)\n",
    "arr\n",
    "#> array([0, 1, 2, 3, 4, 5, 6, 7, 8, 9])"
   ]
  },
  {
   "cell_type": "markdown",
   "id": "broad-cover",
   "metadata": {},
   "source": [
    "3. How to create a boolean array?"
   ]
  },
  {
   "cell_type": "code",
   "execution_count": 4,
   "id": "horizontal-climate",
   "metadata": {},
   "outputs": [
    {
     "data": {
      "text/plain": [
       "array([[ True,  True,  True],\n",
       "       [ True,  True,  True],\n",
       "       [ True,  True,  True]])"
      ]
     },
     "execution_count": 4,
     "metadata": {},
     "output_type": "execute_result"
    }
   ],
   "source": [
    "np.full((3, 3), True, dtype=bool)\n",
    "#> array([[ True,  True,  True],\n",
    "#>        [ True,  True,  True],\n",
    "#>        [ True,  True,  True]], dtype=bool)\n",
    "\n",
    "# Alternate method:\n",
    "np.ones((3,3), dtype=bool)"
   ]
  },
  {
   "cell_type": "markdown",
   "id": "exact-longer",
   "metadata": {},
   "source": [
    "4. How to extract items that satisfy a given condition from 1D array?"
   ]
  },
  {
   "cell_type": "code",
   "execution_count": 5,
   "id": "interim-tyler",
   "metadata": {},
   "outputs": [
    {
     "data": {
      "text/plain": [
       "array([1, 3, 5, 7, 9])"
      ]
     },
     "execution_count": 5,
     "metadata": {},
     "output_type": "execute_result"
    }
   ],
   "source": [
    "# Input\n",
    "arr = np.array([0, 1, 2, 3, 4, 5, 6, 7, 8, 9])\n",
    "\n",
    "# Solution\n",
    "arr[arr % 2 == 1]\n",
    "#> array([1, 3, 5, 7, 9])"
   ]
  },
  {
   "cell_type": "markdown",
   "id": "medieval-string",
   "metadata": {},
   "source": [
    "5. How to replace items that satisfy a condition with another value in numpy array?"
   ]
  },
  {
   "cell_type": "code",
   "execution_count": 6,
   "id": "excellent-building",
   "metadata": {},
   "outputs": [
    {
     "data": {
      "text/plain": [
       "array([ 0, -1,  2, -1,  4, -1,  6, -1,  8, -1])"
      ]
     },
     "execution_count": 6,
     "metadata": {},
     "output_type": "execute_result"
    }
   ],
   "source": [
    "arr[arr % 2 == 1] = -1\n",
    "arr\n",
    "#> array([ 0, -1,  2, -1,  4, -1,  6, -1,  8, -1])"
   ]
  },
  {
   "cell_type": "code",
   "execution_count": null,
   "id": "loose-portable",
   "metadata": {},
   "outputs": [],
   "source": []
  }
 ],
 "metadata": {
  "kernelspec": {
   "display_name": "Python 3",
   "language": "python",
   "name": "python3"
  },
  "language_info": {
   "codemirror_mode": {
    "name": "ipython",
    "version": 3
   },
   "file_extension": ".py",
   "mimetype": "text/x-python",
   "name": "python",
   "nbconvert_exporter": "python",
   "pygments_lexer": "ipython3",
   "version": "3.8.6"
  }
 },
 "nbformat": 4,
 "nbformat_minor": 5
}
